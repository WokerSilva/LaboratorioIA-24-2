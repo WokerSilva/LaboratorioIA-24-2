{
  "cells": [
    {
      "cell_type": "markdown",
      "metadata": {
        "id": "VE6dZbwxVD7d"
      },
      "source": [
        "# Práctica 03: Laberinto con DFS"
      ]
    },
    {
      "cell_type": "markdown",
      "metadata": {
        "id": "5s3Mf3pEK2Pn"
      },
      "source": [
        "El laberinto está representado en una matriz, donde:\n",
        "* 0 es un espacio libre\n",
        "* 1 es un obstáculo\n",
        "* E es la entrada del laberinto\n",
        "* S es la salida del laberinto"
      ]
    },
    {
      "cell_type": "markdown",
      "metadata": {},
      "source": [
        "## Como funciona DFS\n",
        "```\n",
        "1  DFS(recibe una grafica(G) y un nodo inicial (s))\n",
        "2     Crear una pila vacía\n",
        "3     Meter el nodo inicial (s) en la pila\n",
        "4     Mientras esta pila no este vacía \n",
        "5         Sacar un nodo (n)\n",
        "6         Si (n) no ha sido visitado\n",
        "7             Señalar el nodo como visitado\n",
        "8             Para cada nodo (c) conecatdo en nuestro nodo actual (n)\n",
        "9                 Si (c) no ha sido visitado\n",
        "10                     Meter en la pila\n",
        "11    FIN mientras\n",
        "12 FIN DFS\n",
        "```"
      ]
    },
    {
      "cell_type": "markdown",
      "metadata": {},
      "source": [
        "Añadimos ahora el código en python\n"
      ]
    },
    {
      "cell_type": "code",
      "execution_count": 36,
      "metadata": {},
      "outputs": [
        {
          "name": "stdout",
          "output_type": "stream",
          "text": [
            "No se encontró la salida :(\n"
          ]
        }
      ],
      "source": [
        "class Agente:\n",
        "    def __init__(self, posicion):\n",
        "        self.posicion = posicion  # La posición inicial del agente\n",
        "\n",
        "    def mover(self, direccion, laberinto):\n",
        "        x, y = self.posicion\n",
        "        if direccion == \"arriba\" and x > 0:\n",
        "            self.posicion = [x-1, y]\n",
        "        elif direccion == \"abajo\" and x < len(laberinto) - 1:\n",
        "            self.posicion = [x+1, y]\n",
        "        elif direccion == \"izquierda\" and y > 0:\n",
        "            self.posicion = [x, y-1]\n",
        "        elif direccion == \"derecha\" and y < len(laberinto[0]) - 1:\n",
        "            self.posicion = [x, y+1]\n",
        "        else:\n",
        "            print(\"El movimiento no es válido D:\")\n",
        "\n",
        "def encontrar_salida(agente, laberinto):\n",
        "    pila = []  # Pila para almacenar las celdas a explorar (2)\n",
        "    visitado = set()  # Conjunto para almacenar las celdas visitadas\n",
        "    \n",
        "    # Buscar la entrada del laberinto haría que el agente ya no tenga sentido en la implementación     \n",
        "    # for i in range(len(laberinto)):\n",
        "    #    for j in range(len(laberinto[0])):\n",
        "    #        if laberinto[i][j] == \"E\":\n",
        "    #            posicion = (i, j)  # Almacenar la posición de la entrada\n",
        "    #            pila.append(posicion)  # Agregar la entrada a la pila\n",
        "    #            break\n",
        "\n",
        "    # Por eso inicializamos la posición del agente en el laberinto \n",
        "    #  en la coordenada (0,0) para todos los laberintos de prueba\n",
        "    x, y = agente.posicion\n",
        "\n",
        "    # Verificar si la posición inicial de las cordenadas del agente son las (0,0)\n",
        "    if laberinto[x][y] != \"E\":\n",
        "        print(\"La posición inicial no es (0,0). No se encontro la entrada\")\n",
        "        return\n",
        "    \n",
        "    # Agregar la posición inicial del agente a la pila (3)\n",
        "    pila.append((x, y))\n",
        "\n",
        "    # Función para saber si las coordenadas estan dentro del limite del \n",
        "    #  laberinto y no hacer un tablero de pacman y tambien para saber \n",
        "    #  si la coordenada ha sido visitada\n",
        "    def fue_visitado(x, y):                        \n",
        "        # Primero verificamos si la coordenada x está dentro de los límites del laberinto\n",
        "        if x < 0 or x >= len(laberinto):\n",
        "            return False\n",
        "        # Despueserificamos si la coordenada y está dentro de los límites del laberinto\n",
        "        if y < 0 or y >= len(laberinto[0]):\n",
        "            return False        \n",
        "        # con esto evitarmos el error: list index out of range                        \n",
        "        \n",
        "        # Verificar si la coordenada es un obstáculo\n",
        "        # para que no se siga de corrido\n",
        "        if laberinto[x][y] == 1:\n",
        "            return False\n",
        "                \n",
        "        # Entonces ya que sabemos que es una coordenada valida\n",
        "        #  validamos si ya fue visitada\n",
        "        if (x, y) in visitado:\n",
        "            return False\n",
        "        \n",
        "        return True\n",
        "    \n",
        "    # Mientras la pila no este vacia (4)\n",
        "    while pila:\n",
        "        x, y = pila.pop()  # Sacar un nodo (n) de la pila (5)\n",
        "        \n",
        "        if (x, y) not in visitado:  # Si el nodo no ha sido visitado (6)\n",
        "            visitado.add((x, y))  # Marcar el nodo como visitado (7)\n",
        "            \n",
        "            # Verificar si encontramos la salida\n",
        "            #  esto con el fin de que ya no siga buscando si la ha encontrado\n",
        "            if laberinto[x][y] == \"S\":\n",
        "                print(\"Se encontró la salida :D\")\n",
        "                \n",
        "                return\n",
        "            \n",
        "            # Agregar las coordenadas vecinas a la pila (8)\n",
        "            for vecino_x, vecino_y in [(0, 1), (0, -1), (1, 0), (-1, 0)]:\n",
        "                visitado_x, visitado_y = x + vecino_x, y + vecino_y\n",
        "                if fue_visitado(visitado_x, visitado_y): # Si no fue visitado (9)\n",
        "                    pila.append((visitado_x, visitado_y)) # Se agrega a la pila (10)\n",
        "    \n",
        "    print(\"No se encontró la salida :(\")    \n",
        "\n",
        "# Representación del laberinto\n",
        "laberinto = [\n",
        "    [\"E\",   0, 1, 0],\n",
        "    [  1,   0, 1, 0],\n",
        "    [  0,   1, 0, 0],\n",
        "    [  1, \"S\", 0, 1]\n",
        "]\n",
        "\n",
        "agente = Agente([0, 0])\n",
        "encontrar_salida(agente, laberinto)\n"
      ]
    }
  ],
  "metadata": {
    "colab": {
      "provenance": []
    },
    "kernelspec": {
      "display_name": "Python 3",
      "name": "python3"
    },
    "language_info": {
      "codemirror_mode": {
        "name": "ipython",
        "version": 3
      },
      "file_extension": ".py",
      "mimetype": "text/x-python",
      "name": "python",
      "nbconvert_exporter": "python",
      "pygments_lexer": "ipython3",
      "version": "3.11.2"
    }
  },
  "nbformat": 4,
  "nbformat_minor": 0
}
