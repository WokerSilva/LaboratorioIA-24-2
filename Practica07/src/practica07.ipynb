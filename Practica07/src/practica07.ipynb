{
  "cells": [
    {
      "cell_type": "markdown",
      "metadata": {
        "id": "ia-nOSDMsZka"
      },
      "source": [
        "# Práctica 06: Redes bayesianas"
      ]
    },
    {
      "cell_type": "markdown",
      "metadata": {
        "id": "ShG99GN-sZke"
      },
      "source": [
        "### Descripción del Algoritmo\n",
        "\n",
        "Las redes bayesianas son modelos gráficos probabilísticos que representan un conjunto de variables y sus dependencias condicionales mediante un grafo dirigido acíclico (DAG). Cada nodo en el grafo representa una variable aleatoria, mientras que cada arista representa una dependencia condicional entre las variables. Este modelo es útil para realizar inferencias sobre variables desconocidas, dadas las observaciones de otras variables.\n",
        "\n",
        "Las redes bayesianas utilizan el teorema de Bayes para actualizar las probabilidades de los nodos a medida que se dispone de nueva información, permitiendo realizar predicciones y entender la relación entre diferentes variables en un sistema complejo.\n",
        "\n",
        "#### Función y Parámetros\n",
        "\n",
        "##### Función: Creación de la Red Bayesiana\n",
        "\n",
        "- **Nombre**: `BayesianModel()`\n",
        "    - **Descripción**: Crea una instancia de una red bayesiana. Define la estructura del modelo especificando las dependencias entre las variables.\n",
        "    - **Parámetros**:\n",
        "        - `edges`: Una lista de tuplas que representan las aristas del grafo. Cada tupla (`(A, B)`) indica una dependencia de `B` sobre `A`, es decir, que `A` es padre de `B`.\n",
        "    - **Ejemplo de Uso**:\n",
        "        ```python\n",
        "        modelo = BayesianModel([\n",
        "            ('Horas de trabajo', 'Balance trabajo-vida'),\n",
        "            ('Balance trabajo-vida', 'Satisfacción laboral')\n",
        "        ])\n",
        "        ```\n",
        "\n",
        "##### Función: Definición de las Tablas de Probabilidad Condicional (CPTs)\n",
        "\n",
        "- **Nombre**: `TabularCPD()`\n",
        "    - **Descripción**: Define una tabla de probabilidad condicional (CPT) para una variable dentro de la red. La CPT cuantifica el efecto de los nodos padres sobre el nodo hijo.\n",
        "    - **Parámetros**:\n",
        "        - `variable`: El nombre de la variable para la CPT.\n",
        "        - `variable_card`: El número de estados posibles de la variable.\n",
        "        - `values`: Una matriz de probabilidades que define la distribución condicional de la variable dado el estado de sus padres.\n",
        "        - `evidence` (opcional): La lista de variables padres.\n",
        "        - `evidence_card` (opcional): El número de estados posibles para cada variable padre.\n",
        "    - **Ejemplo de Uso**:\n",
        "        ```python\n",
        "        cpt_h = TabularCPD(variable='Horas de trabajo', variable_card=3,\n",
        "                           values=[[0.1], [0.6], [0.3]],  \n",
        "                           state_names={'Horas de trabajo': ['largas', 'moderadas', 'cortas']})\n",
        "        ```\n",
        "\n",
        "##### Función: Verificación del modelo de la red Bayesiana\n",
        "\n",
        "- **Nombre**: `check_model()`\n",
        "    - **Descripción**: Este método verifica el modelo de la red bayesiana para detectar errores. Verifica si la suma de las probabilidades para cada estado es igual a 1 y si las CPDs asociadas con los nodos son consistentes con sus padres.\n",
        "    - **Parámetros**: Ninguno.\n",
        "    - **Retorno**:\n",
        "        - `check` (booleano): True si todas las verificaciones pasan, de lo contrario debería lanzar un error..\n",
        "    - **Ejemplo de Uso**:\n",
        "        ```python\n",
        "        if modelo.check_model():\n",
        "            print(\"El modelo es válido.\")\n",
        "        else:\n",
        "            print(\"El modelo es inválido.\")\n",
        "        ```\n",
        "\n",
        "##### Función: Realización de Inferencias\n",
        "\n",
        "- **Nombre**: `VariableElimination()`\n",
        "    - **Descripción**: Este método de inferencia permite consultar la red bayesiana para obtener las probabilidades condicionales de una o más variables, dadas algunas evidencias.\n",
        "    - **Parámetros**:\n",
        "        - `model`: La red bayesiana sobre la cual se realiza la inferencia.\n",
        "    - **Ejemplo de Uso**:\n",
        "        ```python\n",
        "        inferencia = VariableElimination(modelo)\n",
        "        resultado = inferencia.query(variables=['Satisfacción laboral'],\n",
        "                                     evidence={'Horas de trabajo': 'moderadas', 'Balance trabajo-vida': 'equilibrado'})\n",
        "\n",
        "        print(resultado)\n",
        "        ```\n"
      ]
    },
    {
      "cell_type": "markdown",
      "metadata": {
        "id": "54KZ5u6hsZkh"
      },
      "source": [
        "<center><h1>INICIO DEL CÓDIGO</h1></center>\n",
        "\n",
        "\n",
        "\n"
      ]
    },
    {
      "cell_type": "code",
      "execution_count": 2,
      "metadata": {
        "colab": {
          "base_uri": "https://localhost:8080/"
        },
        "id": "ciptX8fusZkh",
        "outputId": "c2b5b110-d8f1-4725-fe27-67a70341ef9f"
      },
      "outputs": [
        {
          "name": "stdout",
          "output_type": "stream",
          "text": [
            "El modelo es válido.\n",
            "La probabilidad de estar satisfecho es:\n",
            "+------------------------------------+-----------------------------+\n",
            "| Satisfacción laboral               |   phi(Satisfacción laboral) |\n",
            "+====================================+=============================+\n",
            "| Satisfacción laboral(satisfecho)   |                      0.8000 |\n",
            "+------------------------------------+-----------------------------+\n",
            "| Satisfacción laboral(neutral)      |                      0.1500 |\n",
            "+------------------------------------+-----------------------------+\n",
            "| Satisfacción laboral(insatisfecho) |                      0.0500 |\n",
            "+------------------------------------+-----------------------------+\n"
          ]
        }
      ],
      "source": [
        "# Importar las librerías necesarias\n",
        "from pgmpy.models import BayesianNetwork # Se usa BayesianModel en lugar de BayesianNetwork\n",
        "from pgmpy.factors.discrete import TabularCPD\n",
        "from pgmpy.inference import VariableElimination\n",
        "\n",
        "# Paso 1: Definir la estructura de la red bayesiana\n",
        "# Aquí se establece cómo se relacionan las variables dentro de la red.\n",
        "# Las aristas representan influencias directas entre las variables, modelando las dependencias condicionales.\n",
        "modelo = BayesianNetwork([\n",
        "    ('Horas de trabajo', 'Balance trabajo-vida'),  # Las horas de trabajo influyen en el balance trabajo-vida\n",
        "    ('Balance trabajo-vida', 'Satisfacción laboral')  # El balance trabajo-vida influye en la satisfacción laboral\n",
        "])\n",
        "\n",
        "# Paso 2: Definir las CPTs (Tablas de Probabilidad Condicional)\n",
        "# Cada CPT especifica cómo la probabilidad de una variable se ve influenciada por el estado de sus padres en la red.\n",
        "\n",
        "# CPT para Horas de trabajo (H)\n",
        "# Define la distribución inicial de cómo se distribuyen las horas de trabajo sin considerar otras variables.\n",
        "cpt_h = TabularCPD(variable='Horas de trabajo', variable_card=3,\n",
        "                   values=[[0.6], [0.3], [0.1]],  # Suposiciones de ejemplo sobre la distribución\n",
        "                   state_names={'Horas de trabajo': ['largas', 'moderadas', 'cortas']})\n",
        "\n",
        "# CPT para Balance trabajo-vida (B), dependiente de H\n",
        "# Establece cómo las horas de trabajo afectan el balance trabajo-vida.\n",
        "cpt_b = TabularCPD(variable='Balance trabajo-vida', variable_card=2,\n",
        "                   values=[[0.4, 0.7, 0.2], [0.6, 0.3, 0.8]],  # Probabilidades condicionales basadas en H\n",
        "                   evidence=['Horas de trabajo'], evidence_card=[3],\n",
        "                   state_names={'Balance trabajo-vida': ['equilibrado', 'no equilibrado'],\n",
        "                                'Horas de trabajo': ['largas', 'moderadas', 'cortas']})\n",
        "\n",
        "# CPT para Satisfacción laboral (S), dependiente de B\n",
        "# Define cómo el balance trabajo-vida afecta la satisfacción laboral.\n",
        "cpt_s = TabularCPD(variable='Satisfacción laboral', variable_card=3,\n",
        "                   values=[[0.8, 0.05], [0.15, 0.6], [0.05, 0.35]],  # Probabilidades condicionales basadas en B\n",
        "                   evidence=['Balance trabajo-vida'], evidence_card=[2],\n",
        "                   state_names={'Satisfacción laboral': ['satisfecho', 'neutral', 'insatisfecho'],\n",
        "                                'Balance trabajo-vida': ['equilibrado', 'no equilibrado']})\n",
        "\n",
        "# Añadir las CPTs al modelo y verificar su validez\n",
        "modelo.add_cpds(cpt_h, cpt_b, cpt_s)\n",
        "\n",
        "# check_model() lo usamos para verificar si un modelo bayesiado es valido, para esto necesitamos asegurarnos de que las CPDs(las tablas de probabilidad\n",
        "# condicional que en nuestro caso son 3 variables) esten correctamente definidas para que la rede bayesiana que se creo tenga coherencia y sentido, para asi poder obtener\n",
        "# resultados validos.\n",
        "#\n",
        "# Al realizar check_model() si el modelo que se definio es valido, entonces esto nos indica que la relaciones entre las 3 variables de la red bayesiana las hemos\n",
        "# unido correctamente, y entonces regresa true con el mensaje \"El modelo es valido\", en caso contrario regresamos false y decimos \"El modelos es inválido\", esto nos dice que\n",
        "# lo mas seguro es que las relaciones de la red bayesiana que se definieron se cometieron errores dando lugar a una inconsistencia en las tabalas de probabilidad.\n",
        "if modelo.check_model():\n",
        "    print(\"El modelo es válido.\")\n",
        "else:\n",
        "    print(\"El modelo es inválido.\")\n",
        "\n",
        "# Paso 3: Realizar la inferencia\n",
        "# Se utiliza VariableElimination para consultar la red y realizar inferencias sobre variables de interés.\n",
        "\n",
        "# Crear un objeto de inferencia\n",
        "inferencia = VariableElimination(modelo)\n",
        "\n",
        "# Consultar la probabilidad de estar satisfecho con el trabajo bajo condiciones específicas.\n",
        "# Esto permite entender cómo factores como las horas de trabajo y el balance trabajo-vida afectan la satisfacción laboral.\n",
        "print(\"La probabilidad de estar satisfecho es:\")\n",
        "resultado = inferencia.query(variables=['Satisfacción laboral'],\n",
        "                             evidence={'Horas de trabajo': 'moderadas', 'Balance trabajo-vida': 'equilibrado'})\n",
        "\n",
        "print(resultado)\n"
      ]
    }
  ],
  "metadata": {
    "colab": {
      "provenance": []
    },
    "kernelspec": {
      "display_name": "Python 3",
      "language": "python",
      "name": "python3"
    },
    "language_info": {
      "codemirror_mode": {
        "name": "ipython",
        "version": 3
      },
      "file_extension": ".py",
      "mimetype": "text/x-python",
      "name": "python",
      "nbconvert_exporter": "python",
      "pygments_lexer": "ipython3",
      "version": "3.11.2"
    }
  },
  "nbformat": 4,
  "nbformat_minor": 0
}
