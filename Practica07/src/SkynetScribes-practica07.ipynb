{
  "nbformat": 4,
  "nbformat_minor": 0,
  "metadata": {
    "colab": {
      "provenance": []
    },
    "kernelspec": {
      "name": "python3",
      "display_name": "Python 3"
    },
    "language_info": {
      "name": "python"
    }
  },
  "cells": [
    {
      "cell_type": "markdown",
      "source": [
        "# Practica 07: Regresión Logística\n",
        "\n",
        "Integrantes:\n",
        "\n",
        "*   Carlos Daniel Cortés Jiménez\n",
        "*   Sarah Sophía Olivares García\n",
        "*   Marco Silva Huerta\n",
        "*   Fernando Mendoza Eslava\n",
        "*   Luis Enrique García Gómez\n",
        "*   Laura Itzel Tinoco Miguel\n",
        "\n",
        "**Problema a resolver**: Desarrollar un modelo predictivo que pueda estimar la probabilidad de abandono escolar en diferentes planteles de México, basándose en características como la entidad, el plantel y el periodo anual.\n"
      ],
      "metadata": {
        "id": "E9l_zl5tfhdT"
      }
    },
    {
      "cell_type": "markdown",
      "source": [
        "## 1. Carga y exploración datos\n",
        "\n",
        "Describir la forma en que se hicieron los pasos del pdf.\n",
        "Comentar el código para todas las funciones\n",
        "\n"
      ],
      "metadata": {
        "id": "C5ZQ2TJ4gk7U"
      }
    },
    {
      "cell_type": "code",
      "source": [
        "import matplotlib.pyplot as plt\n",
        "import pandas as pd\n",
        "import seaborn as sns\n",
        "import matplotlib.pyplot as plt\n",
        "from sklearn.model_selection import train_test_split\n",
        "from sklearn.linear_model import LogisticRegression\n",
        "from sklearn.metrics import confusion_matrix"
      ],
      "metadata": {
        "id": "gxSF0E3BvPRC"
      },
      "execution_count": null,
      "outputs": []
    },
    {
      "cell_type": "code",
      "source": [
        "# Importamos el documento a Colab.\n",
        "from google.colab import files\n",
        "uploaded = files.upload()"
      ],
      "metadata": {
        "id": "fFBXTQUbfnZb",
        "colab": {
          "base_uri": "https://localhost:8080/",
          "height": 75
        },
        "outputId": "479113e1-0a87-4c53-d96d-ca2d33a6f165"
      },
      "execution_count": null,
      "outputs": [
        {
          "output_type": "display_data",
          "data": {
            "text/plain": [
              "<IPython.core.display.HTML object>"
            ],
            "text/html": [
              "\n",
              "     <input type=\"file\" id=\"files-2f39bdbd-97fb-4124-ae57-217b932025eb\" name=\"files[]\" multiple disabled\n",
              "        style=\"border:none\" />\n",
              "     <output id=\"result-2f39bdbd-97fb-4124-ae57-217b932025eb\">\n",
              "      Upload widget is only available when the cell has been executed in the\n",
              "      current browser session. Please rerun this cell to enable.\n",
              "      </output>\n",
              "      <script>// Copyright 2017 Google LLC\n",
              "//\n",
              "// Licensed under the Apache License, Version 2.0 (the \"License\");\n",
              "// you may not use this file except in compliance with the License.\n",
              "// You may obtain a copy of the License at\n",
              "//\n",
              "//      http://www.apache.org/licenses/LICENSE-2.0\n",
              "//\n",
              "// Unless required by applicable law or agreed to in writing, software\n",
              "// distributed under the License is distributed on an \"AS IS\" BASIS,\n",
              "// WITHOUT WARRANTIES OR CONDITIONS OF ANY KIND, either express or implied.\n",
              "// See the License for the specific language governing permissions and\n",
              "// limitations under the License.\n",
              "\n",
              "/**\n",
              " * @fileoverview Helpers for google.colab Python module.\n",
              " */\n",
              "(function(scope) {\n",
              "function span(text, styleAttributes = {}) {\n",
              "  const element = document.createElement('span');\n",
              "  element.textContent = text;\n",
              "  for (const key of Object.keys(styleAttributes)) {\n",
              "    element.style[key] = styleAttributes[key];\n",
              "  }\n",
              "  return element;\n",
              "}\n",
              "\n",
              "// Max number of bytes which will be uploaded at a time.\n",
              "const MAX_PAYLOAD_SIZE = 100 * 1024;\n",
              "\n",
              "function _uploadFiles(inputId, outputId) {\n",
              "  const steps = uploadFilesStep(inputId, outputId);\n",
              "  const outputElement = document.getElementById(outputId);\n",
              "  // Cache steps on the outputElement to make it available for the next call\n",
              "  // to uploadFilesContinue from Python.\n",
              "  outputElement.steps = steps;\n",
              "\n",
              "  return _uploadFilesContinue(outputId);\n",
              "}\n",
              "\n",
              "// This is roughly an async generator (not supported in the browser yet),\n",
              "// where there are multiple asynchronous steps and the Python side is going\n",
              "// to poll for completion of each step.\n",
              "// This uses a Promise to block the python side on completion of each step,\n",
              "// then passes the result of the previous step as the input to the next step.\n",
              "function _uploadFilesContinue(outputId) {\n",
              "  const outputElement = document.getElementById(outputId);\n",
              "  const steps = outputElement.steps;\n",
              "\n",
              "  const next = steps.next(outputElement.lastPromiseValue);\n",
              "  return Promise.resolve(next.value.promise).then((value) => {\n",
              "    // Cache the last promise value to make it available to the next\n",
              "    // step of the generator.\n",
              "    outputElement.lastPromiseValue = value;\n",
              "    return next.value.response;\n",
              "  });\n",
              "}\n",
              "\n",
              "/**\n",
              " * Generator function which is called between each async step of the upload\n",
              " * process.\n",
              " * @param {string} inputId Element ID of the input file picker element.\n",
              " * @param {string} outputId Element ID of the output display.\n",
              " * @return {!Iterable<!Object>} Iterable of next steps.\n",
              " */\n",
              "function* uploadFilesStep(inputId, outputId) {\n",
              "  const inputElement = document.getElementById(inputId);\n",
              "  inputElement.disabled = false;\n",
              "\n",
              "  const outputElement = document.getElementById(outputId);\n",
              "  outputElement.innerHTML = '';\n",
              "\n",
              "  const pickedPromise = new Promise((resolve) => {\n",
              "    inputElement.addEventListener('change', (e) => {\n",
              "      resolve(e.target.files);\n",
              "    });\n",
              "  });\n",
              "\n",
              "  const cancel = document.createElement('button');\n",
              "  inputElement.parentElement.appendChild(cancel);\n",
              "  cancel.textContent = 'Cancel upload';\n",
              "  const cancelPromise = new Promise((resolve) => {\n",
              "    cancel.onclick = () => {\n",
              "      resolve(null);\n",
              "    };\n",
              "  });\n",
              "\n",
              "  // Wait for the user to pick the files.\n",
              "  const files = yield {\n",
              "    promise: Promise.race([pickedPromise, cancelPromise]),\n",
              "    response: {\n",
              "      action: 'starting',\n",
              "    }\n",
              "  };\n",
              "\n",
              "  cancel.remove();\n",
              "\n",
              "  // Disable the input element since further picks are not allowed.\n",
              "  inputElement.disabled = true;\n",
              "\n",
              "  if (!files) {\n",
              "    return {\n",
              "      response: {\n",
              "        action: 'complete',\n",
              "      }\n",
              "    };\n",
              "  }\n",
              "\n",
              "  for (const file of files) {\n",
              "    const li = document.createElement('li');\n",
              "    li.append(span(file.name, {fontWeight: 'bold'}));\n",
              "    li.append(span(\n",
              "        `(${file.type || 'n/a'}) - ${file.size} bytes, ` +\n",
              "        `last modified: ${\n",
              "            file.lastModifiedDate ? file.lastModifiedDate.toLocaleDateString() :\n",
              "                                    'n/a'} - `));\n",
              "    const percent = span('0% done');\n",
              "    li.appendChild(percent);\n",
              "\n",
              "    outputElement.appendChild(li);\n",
              "\n",
              "    const fileDataPromise = new Promise((resolve) => {\n",
              "      const reader = new FileReader();\n",
              "      reader.onload = (e) => {\n",
              "        resolve(e.target.result);\n",
              "      };\n",
              "      reader.readAsArrayBuffer(file);\n",
              "    });\n",
              "    // Wait for the data to be ready.\n",
              "    let fileData = yield {\n",
              "      promise: fileDataPromise,\n",
              "      response: {\n",
              "        action: 'continue',\n",
              "      }\n",
              "    };\n",
              "\n",
              "    // Use a chunked sending to avoid message size limits. See b/62115660.\n",
              "    let position = 0;\n",
              "    do {\n",
              "      const length = Math.min(fileData.byteLength - position, MAX_PAYLOAD_SIZE);\n",
              "      const chunk = new Uint8Array(fileData, position, length);\n",
              "      position += length;\n",
              "\n",
              "      const base64 = btoa(String.fromCharCode.apply(null, chunk));\n",
              "      yield {\n",
              "        response: {\n",
              "          action: 'append',\n",
              "          file: file.name,\n",
              "          data: base64,\n",
              "        },\n",
              "      };\n",
              "\n",
              "      let percentDone = fileData.byteLength === 0 ?\n",
              "          100 :\n",
              "          Math.round((position / fileData.byteLength) * 100);\n",
              "      percent.textContent = `${percentDone}% done`;\n",
              "\n",
              "    } while (position < fileData.byteLength);\n",
              "  }\n",
              "\n",
              "  // All done.\n",
              "  yield {\n",
              "    response: {\n",
              "      action: 'complete',\n",
              "    }\n",
              "  };\n",
              "}\n",
              "\n",
              "scope.google = scope.google || {};\n",
              "scope.google.colab = scope.google.colab || {};\n",
              "scope.google.colab._files = {\n",
              "  _uploadFiles,\n",
              "  _uploadFilesContinue,\n",
              "};\n",
              "})(self);\n",
              "</script> "
            ]
          },
          "metadata": {}
        },
        {
          "output_type": "stream",
          "name": "stdout",
          "text": [
            "Saving cd_Abandono_Escolar_CONALEP_2023.csv to cd_Abandono_Escolar_CONALEP_2023 (1).csv\n"
          ]
        }
      ]
    },
    {
      "cell_type": "code",
      "source": [
        "# Cargar el archivo CSV en un DataFrame\n",
        "df = pd.read_csv(\"cd_Abandono_Escolar_CONALEP_2023.csv\", encoding='ISO-8859-1')\n",
        "\n",
        "# Eliminar filas con valores faltantes\n",
        "df_clean = df.dropna()\n",
        "\n",
        "# Comprobar los tipos de datos de cada columna\n",
        "tipos_de_datos = df.dtypes\n",
        "print(\"Los tipos de datos de cada columna son:\")\n",
        "print(tipos_de_datos)\n",
        "df.head()"
      ],
      "metadata": {
        "colab": {
          "base_uri": "https://localhost:8080/",
          "height": 345
        },
        "id": "_bRsSMJCnoqi",
        "outputId": "d081e7ff-8271-4c08-dbbe-384f06c5b158"
      },
      "execution_count": null,
      "outputs": [
        {
          "output_type": "stream",
          "name": "stdout",
          "text": [
            "Los tipos de datos de cada columna son:\n",
            "cve_ent                           float64\n",
            "entidad                            object\n",
            "cve_plantel                       float64\n",
            "plantel                            object\n",
            "periodo_anual                      object\n",
            "Porcentaje_de_abandono_escolar    float64\n",
            "dtype: object\n"
          ]
        },
        {
          "output_type": "execute_result",
          "data": {
            "text/plain": [
              "   cve_ent         entidad  cve_plantel                           plantel  \\\n",
              "0      1.0  Aguascalientes         63.0                 Aguascalientes II   \n",
              "1      1.0  Aguascalientes        284.0                Aguascalientes III   \n",
              "2      1.0  Aguascalientes        318.0                 Aguascalientes IV   \n",
              "3      1.0  Aguascalientes        247.0  Ing. Miguel Ángel Barberena Vega   \n",
              "4      1.0  Aguascalientes        319.0               Pabellon de Arteaga   \n",
              "\n",
              "  periodo_anual  Porcentaje_de_abandono_escolar  \n",
              "0     2022-2023                             8.5  \n",
              "1     2022-2023                            13.9  \n",
              "2     2022-2023                             9.1  \n",
              "3     2022-2023                             9.1  \n",
              "4     2022-2023                            12.6  "
            ],
            "text/html": [
              "\n",
              "  <div id=\"df-ac8982cc-6523-4fb6-983b-b34c4f0f33d9\" class=\"colab-df-container\">\n",
              "    <div>\n",
              "<style scoped>\n",
              "    .dataframe tbody tr th:only-of-type {\n",
              "        vertical-align: middle;\n",
              "    }\n",
              "\n",
              "    .dataframe tbody tr th {\n",
              "        vertical-align: top;\n",
              "    }\n",
              "\n",
              "    .dataframe thead th {\n",
              "        text-align: right;\n",
              "    }\n",
              "</style>\n",
              "<table border=\"1\" class=\"dataframe\">\n",
              "  <thead>\n",
              "    <tr style=\"text-align: right;\">\n",
              "      <th></th>\n",
              "      <th>cve_ent</th>\n",
              "      <th>entidad</th>\n",
              "      <th>cve_plantel</th>\n",
              "      <th>plantel</th>\n",
              "      <th>periodo_anual</th>\n",
              "      <th>Porcentaje_de_abandono_escolar</th>\n",
              "    </tr>\n",
              "  </thead>\n",
              "  <tbody>\n",
              "    <tr>\n",
              "      <th>0</th>\n",
              "      <td>1.0</td>\n",
              "      <td>Aguascalientes</td>\n",
              "      <td>63.0</td>\n",
              "      <td>Aguascalientes II</td>\n",
              "      <td>2022-2023</td>\n",
              "      <td>8.5</td>\n",
              "    </tr>\n",
              "    <tr>\n",
              "      <th>1</th>\n",
              "      <td>1.0</td>\n",
              "      <td>Aguascalientes</td>\n",
              "      <td>284.0</td>\n",
              "      <td>Aguascalientes III</td>\n",
              "      <td>2022-2023</td>\n",
              "      <td>13.9</td>\n",
              "    </tr>\n",
              "    <tr>\n",
              "      <th>2</th>\n",
              "      <td>1.0</td>\n",
              "      <td>Aguascalientes</td>\n",
              "      <td>318.0</td>\n",
              "      <td>Aguascalientes IV</td>\n",
              "      <td>2022-2023</td>\n",
              "      <td>9.1</td>\n",
              "    </tr>\n",
              "    <tr>\n",
              "      <th>3</th>\n",
              "      <td>1.0</td>\n",
              "      <td>Aguascalientes</td>\n",
              "      <td>247.0</td>\n",
              "      <td>Ing. Miguel Ángel Barberena Vega</td>\n",
              "      <td>2022-2023</td>\n",
              "      <td>9.1</td>\n",
              "    </tr>\n",
              "    <tr>\n",
              "      <th>4</th>\n",
              "      <td>1.0</td>\n",
              "      <td>Aguascalientes</td>\n",
              "      <td>319.0</td>\n",
              "      <td>Pabellon de Arteaga</td>\n",
              "      <td>2022-2023</td>\n",
              "      <td>12.6</td>\n",
              "    </tr>\n",
              "  </tbody>\n",
              "</table>\n",
              "</div>\n",
              "    <div class=\"colab-df-buttons\">\n",
              "\n",
              "  <div class=\"colab-df-container\">\n",
              "    <button class=\"colab-df-convert\" onclick=\"convertToInteractive('df-ac8982cc-6523-4fb6-983b-b34c4f0f33d9')\"\n",
              "            title=\"Convert this dataframe to an interactive table.\"\n",
              "            style=\"display:none;\">\n",
              "\n",
              "  <svg xmlns=\"http://www.w3.org/2000/svg\" height=\"24px\" viewBox=\"0 -960 960 960\">\n",
              "    <path d=\"M120-120v-720h720v720H120Zm60-500h600v-160H180v160Zm220 220h160v-160H400v160Zm0 220h160v-160H400v160ZM180-400h160v-160H180v160Zm440 0h160v-160H620v160ZM180-180h160v-160H180v160Zm440 0h160v-160H620v160Z\"/>\n",
              "  </svg>\n",
              "    </button>\n",
              "\n",
              "  <style>\n",
              "    .colab-df-container {\n",
              "      display:flex;\n",
              "      gap: 12px;\n",
              "    }\n",
              "\n",
              "    .colab-df-convert {\n",
              "      background-color: #E8F0FE;\n",
              "      border: none;\n",
              "      border-radius: 50%;\n",
              "      cursor: pointer;\n",
              "      display: none;\n",
              "      fill: #1967D2;\n",
              "      height: 32px;\n",
              "      padding: 0 0 0 0;\n",
              "      width: 32px;\n",
              "    }\n",
              "\n",
              "    .colab-df-convert:hover {\n",
              "      background-color: #E2EBFA;\n",
              "      box-shadow: 0px 1px 2px rgba(60, 64, 67, 0.3), 0px 1px 3px 1px rgba(60, 64, 67, 0.15);\n",
              "      fill: #174EA6;\n",
              "    }\n",
              "\n",
              "    .colab-df-buttons div {\n",
              "      margin-bottom: 4px;\n",
              "    }\n",
              "\n",
              "    [theme=dark] .colab-df-convert {\n",
              "      background-color: #3B4455;\n",
              "      fill: #D2E3FC;\n",
              "    }\n",
              "\n",
              "    [theme=dark] .colab-df-convert:hover {\n",
              "      background-color: #434B5C;\n",
              "      box-shadow: 0px 1px 3px 1px rgba(0, 0, 0, 0.15);\n",
              "      filter: drop-shadow(0px 1px 2px rgba(0, 0, 0, 0.3));\n",
              "      fill: #FFFFFF;\n",
              "    }\n",
              "  </style>\n",
              "\n",
              "    <script>\n",
              "      const buttonEl =\n",
              "        document.querySelector('#df-ac8982cc-6523-4fb6-983b-b34c4f0f33d9 button.colab-df-convert');\n",
              "      buttonEl.style.display =\n",
              "        google.colab.kernel.accessAllowed ? 'block' : 'none';\n",
              "\n",
              "      async function convertToInteractive(key) {\n",
              "        const element = document.querySelector('#df-ac8982cc-6523-4fb6-983b-b34c4f0f33d9');\n",
              "        const dataTable =\n",
              "          await google.colab.kernel.invokeFunction('convertToInteractive',\n",
              "                                                    [key], {});\n",
              "        if (!dataTable) return;\n",
              "\n",
              "        const docLinkHtml = 'Like what you see? Visit the ' +\n",
              "          '<a target=\"_blank\" href=https://colab.research.google.com/notebooks/data_table.ipynb>data table notebook</a>'\n",
              "          + ' to learn more about interactive tables.';\n",
              "        element.innerHTML = '';\n",
              "        dataTable['output_type'] = 'display_data';\n",
              "        await google.colab.output.renderOutput(dataTable, element);\n",
              "        const docLink = document.createElement('div');\n",
              "        docLink.innerHTML = docLinkHtml;\n",
              "        element.appendChild(docLink);\n",
              "      }\n",
              "    </script>\n",
              "  </div>\n",
              "\n",
              "\n",
              "<div id=\"df-4e6d2b6f-4063-4d42-9c52-84d4d06a061c\">\n",
              "  <button class=\"colab-df-quickchart\" onclick=\"quickchart('df-4e6d2b6f-4063-4d42-9c52-84d4d06a061c')\"\n",
              "            title=\"Suggest charts\"\n",
              "            style=\"display:none;\">\n",
              "\n",
              "<svg xmlns=\"http://www.w3.org/2000/svg\" height=\"24px\"viewBox=\"0 0 24 24\"\n",
              "     width=\"24px\">\n",
              "    <g>\n",
              "        <path d=\"M19 3H5c-1.1 0-2 .9-2 2v14c0 1.1.9 2 2 2h14c1.1 0 2-.9 2-2V5c0-1.1-.9-2-2-2zM9 17H7v-7h2v7zm4 0h-2V7h2v10zm4 0h-2v-4h2v4z\"/>\n",
              "    </g>\n",
              "</svg>\n",
              "  </button>\n",
              "\n",
              "<style>\n",
              "  .colab-df-quickchart {\n",
              "      --bg-color: #E8F0FE;\n",
              "      --fill-color: #1967D2;\n",
              "      --hover-bg-color: #E2EBFA;\n",
              "      --hover-fill-color: #174EA6;\n",
              "      --disabled-fill-color: #AAA;\n",
              "      --disabled-bg-color: #DDD;\n",
              "  }\n",
              "\n",
              "  [theme=dark] .colab-df-quickchart {\n",
              "      --bg-color: #3B4455;\n",
              "      --fill-color: #D2E3FC;\n",
              "      --hover-bg-color: #434B5C;\n",
              "      --hover-fill-color: #FFFFFF;\n",
              "      --disabled-bg-color: #3B4455;\n",
              "      --disabled-fill-color: #666;\n",
              "  }\n",
              "\n",
              "  .colab-df-quickchart {\n",
              "    background-color: var(--bg-color);\n",
              "    border: none;\n",
              "    border-radius: 50%;\n",
              "    cursor: pointer;\n",
              "    display: none;\n",
              "    fill: var(--fill-color);\n",
              "    height: 32px;\n",
              "    padding: 0;\n",
              "    width: 32px;\n",
              "  }\n",
              "\n",
              "  .colab-df-quickchart:hover {\n",
              "    background-color: var(--hover-bg-color);\n",
              "    box-shadow: 0 1px 2px rgba(60, 64, 67, 0.3), 0 1px 3px 1px rgba(60, 64, 67, 0.15);\n",
              "    fill: var(--button-hover-fill-color);\n",
              "  }\n",
              "\n",
              "  .colab-df-quickchart-complete:disabled,\n",
              "  .colab-df-quickchart-complete:disabled:hover {\n",
              "    background-color: var(--disabled-bg-color);\n",
              "    fill: var(--disabled-fill-color);\n",
              "    box-shadow: none;\n",
              "  }\n",
              "\n",
              "  .colab-df-spinner {\n",
              "    border: 2px solid var(--fill-color);\n",
              "    border-color: transparent;\n",
              "    border-bottom-color: var(--fill-color);\n",
              "    animation:\n",
              "      spin 1s steps(1) infinite;\n",
              "  }\n",
              "\n",
              "  @keyframes spin {\n",
              "    0% {\n",
              "      border-color: transparent;\n",
              "      border-bottom-color: var(--fill-color);\n",
              "      border-left-color: var(--fill-color);\n",
              "    }\n",
              "    20% {\n",
              "      border-color: transparent;\n",
              "      border-left-color: var(--fill-color);\n",
              "      border-top-color: var(--fill-color);\n",
              "    }\n",
              "    30% {\n",
              "      border-color: transparent;\n",
              "      border-left-color: var(--fill-color);\n",
              "      border-top-color: var(--fill-color);\n",
              "      border-right-color: var(--fill-color);\n",
              "    }\n",
              "    40% {\n",
              "      border-color: transparent;\n",
              "      border-right-color: var(--fill-color);\n",
              "      border-top-color: var(--fill-color);\n",
              "    }\n",
              "    60% {\n",
              "      border-color: transparent;\n",
              "      border-right-color: var(--fill-color);\n",
              "    }\n",
              "    80% {\n",
              "      border-color: transparent;\n",
              "      border-right-color: var(--fill-color);\n",
              "      border-bottom-color: var(--fill-color);\n",
              "    }\n",
              "    90% {\n",
              "      border-color: transparent;\n",
              "      border-bottom-color: var(--fill-color);\n",
              "    }\n",
              "  }\n",
              "</style>\n",
              "\n",
              "  <script>\n",
              "    async function quickchart(key) {\n",
              "      const quickchartButtonEl =\n",
              "        document.querySelector('#' + key + ' button');\n",
              "      quickchartButtonEl.disabled = true;  // To prevent multiple clicks.\n",
              "      quickchartButtonEl.classList.add('colab-df-spinner');\n",
              "      try {\n",
              "        const charts = await google.colab.kernel.invokeFunction(\n",
              "            'suggestCharts', [key], {});\n",
              "      } catch (error) {\n",
              "        console.error('Error during call to suggestCharts:', error);\n",
              "      }\n",
              "      quickchartButtonEl.classList.remove('colab-df-spinner');\n",
              "      quickchartButtonEl.classList.add('colab-df-quickchart-complete');\n",
              "    }\n",
              "    (() => {\n",
              "      let quickchartButtonEl =\n",
              "        document.querySelector('#df-4e6d2b6f-4063-4d42-9c52-84d4d06a061c button');\n",
              "      quickchartButtonEl.style.display =\n",
              "        google.colab.kernel.accessAllowed ? 'block' : 'none';\n",
              "    })();\n",
              "  </script>\n",
              "</div>\n",
              "    </div>\n",
              "  </div>\n"
            ],
            "application/vnd.google.colaboratory.intrinsic+json": {
              "type": "dataframe",
              "variable_name": "df",
              "summary": "{\n  \"name\": \"df\",\n  \"rows\": 315,\n  \"fields\": [\n    {\n      \"column\": \"cve_ent\",\n      \"properties\": {\n        \"dtype\": \"number\",\n        \"std\": 7.989220229706907,\n        \"min\": 1.0,\n        \"max\": 32.0,\n        \"num_unique_values\": 32,\n        \"samples\": [\n          30.0,\n          16.0,\n          25.0\n        ],\n        \"semantic_type\": \"\",\n        \"description\": \"\"\n      }\n    },\n    {\n      \"column\": \"entidad\",\n      \"properties\": {\n        \"dtype\": \"category\",\n        \"num_unique_values\": 33,\n        \"samples\": [\n          \"Zacatecas\",\n          \"Michoac\\u00e1n de Ocampo\",\n          \"Tabasco\"\n        ],\n        \"semantic_type\": \"\",\n        \"description\": \"\"\n      }\n    },\n    {\n      \"column\": \"cve_plantel\",\n      \"properties\": {\n        \"dtype\": \"number\",\n        \"std\": 97.13677324090476,\n        \"min\": 1.0,\n        \"max\": 340.0,\n        \"num_unique_values\": 313,\n        \"samples\": [\n          189.0,\n          17.0,\n          333.0\n        ],\n        \"semantic_type\": \"\",\n        \"description\": \"\"\n      }\n    },\n    {\n      \"column\": \"plantel\",\n      \"properties\": {\n        \"dtype\": \"string\",\n        \"num_unique_values\": 314,\n        \"samples\": [\n          \"Atizap\\u00e1n II\",\n          \"Ciudad Delicias\",\n          \"Tehuac\\u00e1n\"\n        ],\n        \"semantic_type\": \"\",\n        \"description\": \"\"\n      }\n    },\n    {\n      \"column\": \"periodo_anual\",\n      \"properties\": {\n        \"dtype\": \"category\",\n        \"num_unique_values\": 1,\n        \"samples\": [\n          \"2022-2023\"\n        ],\n        \"semantic_type\": \"\",\n        \"description\": \"\"\n      }\n    },\n    {\n      \"column\": \"Porcentaje_de_abandono_escolar\",\n      \"properties\": {\n        \"dtype\": \"number\",\n        \"std\": 6.344112729568383,\n        \"min\": 3.2,\n        \"max\": 37.4,\n        \"num_unique_values\": 162,\n        \"samples\": [\n          8.2\n        ],\n        \"semantic_type\": \"\",\n        \"description\": \"\"\n      }\n    }\n  ]\n}"
            }
          },
          "metadata": {},
          "execution_count": 57
        }
      ]
    },
    {
      "cell_type": "code",
      "source": [
        "\n",
        "# Crear un mapa de calor de valores nulos\n",
        "plt.figure(figsize=(10, 6))\n",
        "sns.heatmap(df.isnull(), cmap='viridis', cbar=False, yticklabels=False)\n",
        "plt.title('Mapa de Calor de Valores Nulos en el DataFrame')\n",
        "plt.show()"
      ],
      "metadata": {
        "colab": {
          "base_uri": "https://localhost:8080/",
          "height": 762
        },
        "id": "nALml0FJrQpa",
        "outputId": "991f621e-cdbd-4314-962f-b14348d7a0f3"
      },
      "execution_count": null,
      "outputs": [
        {
          "output_type": "display_data",
          "data": {
            "text/plain": [
              "<Figure size 1000x600 with 1 Axes>"
            ],
            "image/png": "[encoded data removed]"
          },
          "metadata": {}
        }
      ]
    },
    {
      "cell_type": "code",
      "source": [
        "# Obtener un resumen estadístico de las variables numéricas\n",
        "resumen_estadistico = df.describe()\n",
        "\n",
        "# Mostrar el resumen estadístico\n",
        "print(\"Resumen estadístico de las variables numéricas:\")\n",
        "print(resumen_estadistico)"
      ],
      "metadata": {
        "colab": {
          "base_uri": "https://localhost:8080/"
        },
        "id": "rrPCV-HArkWA",
        "outputId": "050bd5c5-2d83-465c-96d2-206c78d46662"
      },
      "execution_count": null,
      "outputs": [
        {
          "output_type": "stream",
          "name": "stdout",
          "text": [
            "Resumen estadístico de las variables numéricas:\n",
            "          cve_ent  cve_plantel  Porcentaje_de_abandono_escolar\n",
            "count  313.000000   313.000000                      314.000000\n",
            "mean    16.386581   164.610224                       14.523885\n",
            "std      7.989220    97.136773                        6.344113\n",
            "min      1.000000     1.000000                        3.200000\n",
            "25%     10.000000    81.000000                        9.700000\n",
            "50%     15.000000   164.000000                       13.550000\n",
            "75%     23.000000   243.000000                       18.675000\n",
            "max     32.000000   340.000000                       37.400000\n"
          ]
        }
      ]
    },
    {
      "cell_type": "code",
      "source": [
        "from sklearn.preprocessing import scale\n",
        "\n",
        "# Normalizar los datos numéricos\n",
        "df_numeric = df.select_dtypes(include=['float64'])  # Seleccionar solo las columnas numéricas\n",
        "df_normalized = pd.DataFrame(scale(df_numeric), columns=df_numeric.columns)\n",
        "\n",
        "# Configurar el tamaño de la figura\n",
        "plt.figure(figsize=(10, 6))\n",
        "\n",
        "# Crear el gráfico de caja con datos normalizados\n",
        "sns.boxplot(data=df_normalized, orient='h', palette='Set2')\n",
        "\n",
        "# Añadir un título\n",
        "plt.title('Diagrama de Caja de las Variables Numéricas (Datos Normalizados)')\n",
        "\n",
        "# Mostrar el gráfico\n",
        "plt.show()\n"
      ],
      "metadata": {
        "colab": {
          "base_uri": "https://localhost:8080/",
          "height": 545
        },
        "id": "hKMt0hMRr2M4",
        "outputId": "5287d897-e0c8-411d-aa59-1aef0c2ee801"
      },
      "execution_count": null,
      "outputs": [
        {
          "output_type": "display_data",
          "data": {
            "text/plain": [
              "<Figure size 1000x600 with 1 Axes>"
            ],
            "image/png": "[encoded data removed]"
          },
          "metadata": {}
        }
      ]
    },
    {
      "cell_type": "code",
      "source": [
        "# Agrupar los datos por entidad y calcular el promedio de abandono escolar por entidad\n",
        "promedio_abandono_por_entidad = df.groupby('entidad')['Porcentaje_de_abandono_escolar'].mean()\n",
        "\n",
        "# Mostrar el promedio de abandono escolar por entidad\n",
        "print(\"Promedio de abandono escolar por entidad:\")\n",
        "print(promedio_abandono_por_entidad)\n",
        "# Agrupar los datos por plantel y calcular el promedio de abandono escolar por plantel\n",
        "promedio_abandono_por_plantel = df.groupby('plantel')['Porcentaje_de_abandono_escolar'].mean()\n",
        "\n",
        "# Mostrar el promedio de abandono escolar por plantel\n",
        "print(\"Promedio de abandono escolar por plantel:\")\n",
        "print(promedio_abandono_por_plantel)\n"
      ],
      "metadata": {
        "colab": {
          "base_uri": "https://localhost:8080/"
        },
        "id": "v5cdbS39sS5R",
        "outputId": "40334fde-dd81-4b8e-9b4a-d370b3207bbd"
      },
      "execution_count": null,
      "outputs": [
        {
          "output_type": "stream",
          "name": "stdout",
          "text": [
            "Promedio de abandono escolar por entidad:\n",
            "entidad\n",
            "Aguascalientes          11.542857\n",
            "Baja California         18.833333\n",
            "Baja California Sur     14.550000\n",
            "CONALEP                 15.000000\n",
            "Campeche                15.900000\n",
            "Chiapas                 16.791667\n",
            "Chihuahua               21.862500\n",
            "Ciudad de México        25.459259\n",
            "Coahuila de Zaragoza     8.733333\n",
            "Colima                  14.633333\n",
            "Durango                 27.600000\n",
            "Guanajuato              13.187500\n",
            "Guerrero                14.300000\n",
            "Hidalgo                 13.633333\n",
            "Jalisco                 15.644444\n",
            "Michoacán de Ocampo     13.869231\n",
            "Morelos                 18.180000\n",
            "México                   9.787179\n",
            "Nayarit                 19.675000\n",
            "Nuevo León              16.000000\n",
            "Oaxaca                  18.920000\n",
            "Puebla                  11.020000\n",
            "Querétaro de Arteaga    10.480000\n",
            "Quintana Roo             9.350000\n",
            "San Luis Potosí         12.900000\n",
            "Sinaloa                  9.962500\n",
            "Sonora                  15.928571\n",
            "Tabasco                  9.371429\n",
            "Tamaulipas              12.812500\n",
            "Tlaxcala                12.666667\n",
            "Veracruz Llave          10.040000\n",
            "Yucatán                 14.940000\n",
            "Zacatecas               19.500000\n",
            "Name: Porcentaje_de_abandono_escolar, dtype: float64\n",
            "Promedio de abandono escolar por plantel:\n",
            "plantel\n",
            "Acapulco I           10.7\n",
            "Acapulco II          15.1\n",
            "Acatlán de Juárez    24.6\n",
            "Acámbaro             11.9\n",
            "Aeronáutico          10.4\n",
            "                     ... \n",
            "Zacualpan             8.7\n",
            "Zamora               13.9\n",
            "Zapopan              19.2\n",
            "Zihuatanejo          21.1\n",
            "Zitácuaro            12.7\n",
            "Name: Porcentaje_de_abandono_escolar, Length: 314, dtype: float64\n"
          ]
        }
      ]
    },
    {
      "cell_type": "markdown",
      "source": [
        "## 2. Visualización y análisis de datos\n",
        "\n",
        "Describir la forma en que se hicieron los pasos del pdf.\n",
        "Comentar el código para todas las funciones\n"
      ],
      "metadata": {
        "id": "qKjRIJjDg_aM"
      }
    },
    {
      "cell_type": "code",
      "source": [
        "# 2.1 Utiliza un histograma para visualizar cómo se distribuyen los porcentajes\n",
        "#  de abandono escolar entre los planteles educativos\n",
        "\n",
        "plt.figure(figsize=(10, 6))\n",
        "plt.hist(df['Porcentaje_de_abandono_escolar'], bins=20, color='silver', edgecolor='black')\n",
        "plt.xlabel('Porcentaje de Abandono Escolar')\n",
        "plt.ylabel('Frecuencia')\n",
        "plt.title('Distribución de Porcentajes de Abandono Escolar')\n",
        "plt.grid(True)\n",
        "plt.show()\n",
        "\n",
        "# Entonces vemos la tendencia en el porcentaje del abandono escolar con una frecuencia\n",
        "#  más marcada entre 9% a 15%, no hay realemte un pico demaciado alto o bajo dentro\n",
        "#  del histograma para considerarlo importante"
      ],
      "metadata": {
        "id": "gfVnM1zBh5aP",
        "colab": {
          "base_uri": "https://localhost:8080/",
          "height": 565
        },
        "outputId": "f3ef2e30-57bf-4473-d410-5fbcf79070e7"
      },
      "execution_count": null,
      "outputs": [
        {
          "output_type": "display_data",
          "data": {
            "text/plain": [
              "<Figure size 1000x600 with 1 Axes>"
            ],
            "image/png": "[encoded data removed]"
          },
          "metadata": {}
        }
      ]
    },
    {
      "cell_type": "code",
      "source": [
        "# 2.2 Utiliza matplotlib o seaborn para dibujar un gráfico de barras que muestre el promedio de abandono escolar por entidad.\n",
        "\n",
        "# Calcula el promedio de abandono escolar por entidad\n",
        "promedio_abandono_por_entidad = df.groupby('entidad')['Porcentaje_de_abandono_escolar'].mean().reset_index()\n",
        "\n",
        "# Configura el tamaño del gráfico\n",
        "plt.figure(figsize=(12, 6))\n",
        "\n",
        "# Dibuja el gráfico de barras\n",
        "plt.bar(promedio_abandono_por_entidad['entidad'], promedio_abandono_por_entidad['Porcentaje_de_abandono_escolar'], color='skyblue')\n",
        "\n",
        "# Etiqueta los ejes y agrega el título\n",
        "plt.xlabel('Entidad')\n",
        "plt.ylabel('Promedio de Abandono Escolar')\n",
        "plt.title('Promedio de Abandono Escolar por Entidad')\n",
        "\n",
        "# Rotar las etiquetas del eje x para mejor legibilidad\n",
        "plt.xticks(rotation=90)\n",
        "\n",
        "# Muestra el gráfico\n",
        "plt.show()\n"
      ],
      "metadata": {
        "colab": {
          "base_uri": "https://localhost:8080/",
          "height": 709
        },
        "id": "JoukDBzS001v",
        "outputId": "8fdc22df-15d4-4069-d0cf-4bd8c4ecf6c5"
      },
      "execution_count": null,
      "outputs": [
        {
          "output_type": "display_data",
          "data": {
            "text/plain": [
              "<Figure size 1200x600 with 1 Axes>"
            ],
            "image/png": "[encoded data removed]"
          },
          "metadata": {}
        }
      ]
    },
    {
      "cell_type": "markdown",
      "source": [
        "2.4 ¿Puedes identificar algún patrón o cambio significativo en los datos? Cada uno de los integrantes debe dar su análsis.\n",
        "\n",
        "*   Carlos Daniel Cortés Jiménez:\n",
        "*   Sarah Sophía Olivares García:\n",
        "*   Marco Silva Huerta:\n",
        "*   Fernando Mendoza Eslava:\n",
        "*   Luis Enrique García Gómez:\n",
        "*   Laura Itzel Tinoco Miguel:\n"
      ],
      "metadata": {
        "id": "wjSSZXHYiQSD"
      }
    },
    {
      "cell_type": "markdown",
      "source": [
        "## 3. Creación del modelo de regresión logística\n"
      ],
      "metadata": {
        "id": "J0rj2_Ngh58o"
      }
    },
    {
      "cell_type": "markdown",
      "source": [
        "3.1 seleccionar las variables independientes para el modelo.\n",
        "\n",
        "1. Entidad (cve_ent):\n",
        "\n",
        " * La entidad influye debido a factores sociales, políticos, educativos y recursos de estructura (escuelas o materiales) disponibles que varían de una entidad a otra.\n",
        "\n",
        "2. Plantel(cve_plantel):\n",
        "\n",
        " * Cada plantel puede aplicar el programa a su manera, la calidad de los profesores y la comuniadad general interviene en el abandono escolar.\n",
        "\n",
        "3. Periodo Anual(periodo_anual)\n",
        "\n",
        " * Considere el tiempo porque puede ser que en años recientes existan apoyos como becas o no becas (u otro tipo circustancias que se dan en determinadaso años, como elecciones), por eso dependiendo el año será un factor a considerar para el abandono escolar\n"
      ],
      "metadata": {
        "id": "67YgHyq13r9c"
      }
    },
    {
      "cell_type": "markdown",
      "source": [
        "3.2 Utiliza train_test_split para dividir el conjunto de datos en dos: un conjunto de entrenamiento (80%) y un conjunto de prueba (20%).\n",
        "\n",
        "* X_train, X_test: Variables independientes para entrenamiento y pruebas.\n",
        "* y_train, y_test: Variables dependientes para entrenamiento y pruebas.\n",
        "* test_size: Este valor igualado a 0.2 es el 20% de datos para pruebas y así deja el 80% para entrenamiento\n"
      ],
      "metadata": {
        "id": "yfn0JoZmAGbb"
      }
    },
    {
      "cell_type": "code",
      "source": [
        "# Eliminar filas con valores faltantes en la variable dependiente\n",
        "df_clean = df.dropna(subset=['Porcentaje_de_abandono_escolar'])\n",
        "\n",
        "# Convertir 'periodo_anual' a valores numéricos (usando el primer año del rango)\n",
        "def convertir_periodo_anual(valor):\n",
        "    if isinstance(valor, str):\n",
        "        return int(valor.split('-')[0])\n",
        "    else:\n",
        "        return valor\n",
        "\n",
        "df['periodo_anual'] = df['periodo_anual'].apply(convertir_periodo_anual)\n",
        "\n",
        "# Seleccionar las variables independientes y dependiente\n",
        "varInd = df[['cve_ent', 'cve_plantel', 'periodo_anual']] # Variables inependientes\n",
        "varDep = df['Porcentaje_de_abandono_escolar']  # Variable dependiente\n",
        "# Dividir los datos en conjunto de entrenamiento y prueba (80% entrenamiento, 20% prueba)\n",
        "X_train, X_test, y_train, y_test = train_test_split(varInd, varDep, test_size=0.2, random_state=50)\n",
        "\n",
        "\n",
        "# Verificar las dimensiones de los conjuntos de entrenamiento y prueba\n",
        "print('Dimensiones del conjunto de entrenamiento:')\n",
        "# Vemos como el valor del total de datos es ((316)*(0.8)) = 250 (por limpieza de datos)\n",
        "print('X_train:', X_train.shape)\n",
        "print('y_train:', y_train.shape)\n",
        "print('Dimensiones del conjunto de prueba:')\n",
        "# Vemos como el valor del total de datos es ((316)*(0.2)) = 63\n",
        "print('X_test:', X_test.shape)\n",
        "print('y_test:', y_test.shape)"
      ],
      "metadata": {
        "id": "CP1WgE8YiGuh",
        "colab": {
          "base_uri": "https://localhost:8080/"
        },
        "outputId": "cba20019-5576-4134-a416-85ec50a158d8"
      },
      "execution_count": null,
      "outputs": [
        {
          "output_type": "stream",
          "name": "stdout",
          "text": [
            "Dimensiones del conjunto de entrenamiento:\n",
            "X_train: (250, 3)\n",
            "y_train: (250,)\n",
            "Dimensiones del conjunto de prueba:\n",
            "X_test: (63, 3)\n",
            "y_test: (63,)\n"
          ]
        }
      ]
    },
    {
      "cell_type": "code",
      "source": [
        "# 3.3 Utiliza sklearn.linear_model.LogisticRegression para crear una instancia del modelo de regresión logística de scikit-learn\n",
        "\n",
        "# Convertir la variable objetivo a enteros\n",
        "#   Esto es para trabajar con números enteros dentro del\n",
        "#   modelo de regresión logística ya que los porcentajes\n",
        "#   del dataFrame estan como valores flotantes\n",
        "y_train = y_train.astype(int)\n",
        "y_test = y_test.astype(int)\n",
        "\n",
        "# Creamos la instancia del modelo de regresión logística\n",
        "#  - random_state: asegura que los resultados sean reproducibles\n",
        "#  - solver      : método de optimización utilizado para entrenar el modelo\n",
        "#  - max_iter    : número máximo de iteraciones (1000, no fueron suficientes)\n",
        "modelo_logistico = LogisticRegression(random_state=0, solver='lbfgs', max_iter=10000)\n",
        "\n",
        "# Entrenamos el modelo de regresión logística utilizando los datos de entrenamiento\n",
        "modelo_logistico.fit(X_train, y_train)\n",
        "\n",
        "# Revisar los coeficientes del modelo\n",
        "# Después de entrenar el modelo, extraemoos los coeficientes\n",
        "#  - modelo_logistico.coef_ contiene los coeficientes de las variables independientes\n",
        "#     que indican la importancia de cada variable en la predicción.\n",
        "coeficientes = modelo_logistico.coef_[0]\n",
        "variables_independientes = varInd.columns\n",
        "\n",
        "# Finalmente se crea un DataFrame de pandas con los coeficientes y las variables independientes\n",
        "df_coeficientes = pd.DataFrame(coeficientes, index=variables_independientes, columns=['Coeficiente'])\n",
        "print(df_coeficientes)"
      ],
      "metadata": {
        "colab": {
          "base_uri": "https://localhost:8080/"
        },
        "id": "GwF30t9qDna0",
        "outputId": "5604ae04-42be-4299-d0b4-8170cf65687c"
      },
      "execution_count": null,
      "outputs": [
        {
          "output_type": "stream",
          "name": "stdout",
          "text": [
            "               Coeficiente\n",
            "cve_ent           0.271850\n",
            "cve_plantel      -0.020735\n",
            "periodo_anual    -0.002167\n"
          ]
        }
      ]
    },
    {
      "cell_type": "markdown",
      "source": [
        "* cve_ent           0.271850\n",
        "La probabilidad positiva nos dice que para ciertas entidades pueden existir condiciones o factores que contribuyen a un mayor riesgo de abandono escolar\n",
        "\n",
        "\n",
        "* cve_plantel      -0.020735\n",
        "Aquí la probabilidad es negativa, eso nos puede decir que algunas escuelas si se preocupan y mejoran las condiciones para reducir el abandono escolar\n",
        "\n",
        "\n",
        "* periodo_anual    -0.002167\n",
        "Y como mencione en la elección de esta varibale, depende del año que puede pasar que escuelas reciban algún apoyo para que los alumnos continuen\n"
      ],
      "metadata": {
        "id": "UFrH22z2r4fw"
      }
    },
    {
      "cell_type": "markdown",
      "source": [
        "3.4 Usa los métodos .predict() y .predict_proba() para realizar predicciones sobre el conjunto de prueba.\n",
        "\n",
        "- .predict()\n",
        "  *  Se utiliza para predecir la clase o valor objetivo para nuevos datos no vistos durante el entrenamiento del modelo. Es decir, toma un conjunto de datos de entrada y genera las predicciones correspondientes a la variable objetivo.\n",
        "\n",
        "- .predict_proba()\n",
        "  * proporciona las probabilidades predichas para cada clase o valor objetivo. A diferencia de .predict(), que solo proporciona una clasificación discreta\n",
        "\n",
        "\n",
        "En la regresión logística, .predict_proba() devuelve un vector de dos probabilidades para cada punto de datos de entrada: la probabilidad positiva (alto riesgo de abandono escolar) y probabilidad negativa (bajo riesgo de abandono escolar)."
      ],
      "metadata": {
        "id": "gyRRBIqCuH01"
      }
    },
    {
      "cell_type": "code",
      "source": [
        "# Realizar predicciones sobre el conjunto de prueba\n",
        "y_pred = modelo_logistico.predict(X_test)\n",
        "y_pred_proba = modelo_logistico.predict_proba(X_test)[:, 1]  # Probabilidad de la clase positiva (abandono escolar)\n",
        "\n",
        "# Comparar las predicciones con los valores reales\n",
        "df_predicciones = pd.DataFrame({'Indice - Valor Real': y_test, 'Predicción': y_pred, 'Proba Clase Positiva': y_pred_proba}, index=X_test.index)\n",
        "\n",
        "# Agregar una columna para determinar si la predicción es adecuada\n",
        "def calcular_proba_abandono(row):\n",
        "    if row['Predicción'] >= row['Indice - Valor Real']:\n",
        "        return 'Alto'\n",
        "    else:\n",
        "        return 'Bajo'\n",
        "\n",
        "df_predicciones['Abandono'] = df_predicciones.apply(calcular_proba_abandono, axis=1)\n",
        "\n",
        "print(df_predicciones.head(5))  # Mostrar las primeras 5 filas para una primera impresión\n"
      ],
      "metadata": {
        "colab": {
          "base_uri": "https://localhost:8080/"
        },
        "id": "1m2qzzARwfys",
        "outputId": "ad99f52b-ec69-4117-946a-47f38f576772"
      },
      "execution_count": null,
      "outputs": [
        {
          "output_type": "stream",
          "name": "stdout",
          "text": [
            "     Indice - Valor Real  Predicción  Proba Clase Positiva Abandono\n",
            "65                     7          12              0.005974     Alto\n",
            "253                   15           7              0.009711     Bajo\n",
            "208                   12           7              0.009221     Bajo\n",
            "156                   11           7              0.008864     Bajo\n",
            "108                   18          10              0.008381     Bajo\n"
          ]
        }
      ]
    },
    {
      "cell_type": "markdown",
      "source": [
        "*  Indice del conjunto de datos de prueba que han sido evaluadas por el modelo\n",
        "*  Valores reales de la variable objetivo (% abandono)\n",
        "*  La predicción son los valores estimados por el modelo\n",
        "*  Probabilidad clase positiva es la probabilidad baja o alta para el abandono\n",
        "*  Abandono, es una columna agregada para visualizar más facilmente el valor de la probabilidad clase positiva"
      ],
      "metadata": {
        "id": "NJ3uhi961r4B"
      }
    },
    {
      "cell_type": "markdown",
      "source": [
        "## 4. Evaluación del modelo\n",
        "\n",
        "4.1 Calcula la matriz de confusión\n",
        "\n",
        "- confusion_matrix()\n",
        "\n",
        "  - Se usa para evaluar la precisión de una clasificación. En este caso la usaremos para evaluar la predictibilidad de si una alumno deserta o continua la escuela en base a nuestro modelo de regresion logística\n"
      ],
      "metadata": {
        "id": "gCrHZJLFh-1v"
      }
    },
    {
      "cell_type": "code",
      "source": [
        "# Calculamos la matriz de confusión\n",
        "\n",
        "# Comparamos las prediciones con los valores reales, y calculamos los verdaderos negativos,\n",
        "# verdaderos positivos, falsos negativos, y los falsos positivos\n",
        "#\n",
        "# Parametros:\n",
        "#     y_test: Valores reales se la vairable objetivo\n",
        "#     y_pred: Valores estimados por el modelo\n",
        "# Devuelve:\n",
        "#     matriz: matriz de confusión que compara las predicciones con los valores reales\n",
        "matriz_de_confusion = confusion_matrix(y_test, y_pred)\n",
        "print(\"Matriz de confusión:\")\n",
        "print(matriz_de_confusion)"
      ],
      "metadata": {
        "id": "hbZ03wuXh-pk"
      },
      "execution_count": null,
      "outputs": []
    },
    {
      "cell_type": "markdown",
      "source": [
        "4.2 Calcula otras métricas de evaluación como la presición, la sensibilidad (recall) y el puntaje F1.\n",
        "\n",
        "- precision_score()\n",
        "  \n",
        "  Calcula la proporción de predicciones verdaderos positivos, de la siguiente forma:\n",
        "\n",
        "  - tp / (tp + fp) donde tp es el número de verdaderos positivos y fp es el número de falsos positivos, entonces decimos que la presicion es la capacidad del clasificador de no marcar a una muestra negativa como positiva\n",
        "\n",
        "- recall_score()\n",
        "  \n",
        "  Calcula la proporción de verdaderos positivos sobre el total de positivos reales, de la siguiente forma:\n",
        "  \n",
        "  - tp / (tp + fn) donde tp es el número de verdaderos positivos y fn es el número de falsos negativos, entonces decimos  que la sensibilidad es la capacidad del clasificador de encontrar todas las muestras positivas.\n",
        "\n",
        "- f1_score()\n",
        "  \n",
        "  Es el cálculo de la media armónica de la precisión y la sensibilidad, cuando F1 llega a 1 decimos que alcaza  su mejor valor y 0 cuando es su peor valor, y se ve de la siguiente forma:\n",
        "\n",
        "  - F1 = 2 * TP / 2 * TP + FP + FN donde TP son los verdaderos positivos, FN los falsos negativos, y FP los falsos positivos"
      ],
      "metadata": {
        "id": "-IkoJNkO4hj9"
      }
    },
    {
      "cell_type": "code",
      "source": [
        "# Calculamos la precisión\n",
        "\n",
        "# Parametros:\n",
        "#     y_test: Valores reales se la vairable objetivo\n",
        "#     y_pred: Valores estimados por el modelo\n",
        "# Devuelve:\n",
        "#     precision: La proporción de predicciones verdaderas positivas\n",
        "precision = precision_score(y_test, y_pred)\n",
        "print(\"Precisión: \", precision)\n",
        "\n",
        "#Calculamos la sensibilidad\n",
        "\n",
        "#Parametros:\n",
        "#     y_test: Valores reales se la vairable objetivo\n",
        "#     y_pred: Valores estimados por el modelo\n",
        "# Devuelve:\n",
        "#     sensibilidad: La proporción de verdaderos positivos sobre el total de positivos reales\n",
        "sensibilidad = recall_score(y_test, y_pred)\n",
        "print(\"Sensibilidad: \", sensibilidad)\n",
        "\n",
        "#Calculamos el puntaje f1\n",
        "\n",
        "#Parametros:\n",
        "#     y_test: Valores reales se la vairable objetivo\n",
        "#     y_pred: Valores estimados por el modelo\n",
        "# Devuelve:\n",
        "#     puntaje_F1: La media armónica de la presición y la sensibilidad\n",
        "puntaje_F1 = f1_score(y_test, y_pred)\n",
        "print(\"Puntaje F1: \", puntaje_F1)"
      ],
      "metadata": {
        "id": "uoXcepIb4nKJ"
      },
      "execution_count": null,
      "outputs": []
    },
    {
      "cell_type": "markdown",
      "source": [
        "4.3 Usando las evaluaciones, escribe tus conclusiones. Todos los integrantes\n",
        "del equipo deben redactar su conclusión.\n",
        "\n",
        "*   Carlos Daniel Cortés Jiménez:\n",
        "*   Sarah Sophía Olivares García:\n",
        "*   Marco Silva Huerta:\n",
        "*   Fernando Mendoza Eslava:\n",
        "*   Luis Enrique García Gómez:\n",
        "*   Laura Itzel Tinoco Miguel:"
      ],
      "metadata": {
        "id": "7ZHZp1k44-Yu"
      }
    }
  ]
}