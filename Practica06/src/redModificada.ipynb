{
 "cells": [
  {
   "cell_type": "markdown",
   "metadata": {},
   "source": [
    "# Práctica 06: Redes bayesianas"
   ]
  },
  {
   "cell_type": "markdown",
   "metadata": {},
   "source": [
    "Este código utiliza le implementación del archivo Redesbayesianas.ipynb\n",
    "\n",
    "Pero aquí definimos los nuevos parametos para la modificación realizada al modelo\n",
    "\n",
    "Recordemos brevemente como es este algoritmo\n",
    "\n",
    "- Definir el modelo:\n",
    "    - Identificar las variables \n",
    "    - Especificar las relaciones\n",
    "    - Construir el grafo\n",
    "\n",
    "- Cuantificar el modelo:\n",
    "    - Asignar probabilidades\n",
    "    - Especificar las CPDs\n",
    "\n",
    "- Realizar inferencia:\n",
    "    - Utilizar el teorema de Bayes\n"
   ]
  },
  {
   "cell_type": "markdown",
   "metadata": {},
   "source": [
    "## Modificación\n",
    "\n",
    "La forma de trabajo en este nuevo modelo son la flexibilidad de horarios de trabajo, pensado en un entorno de oficina en casa además de poder implemtentar ayuda como inteligencia artificial para las actividades en el puesto. Toda la explicación esta en el pdf. "
   ]
  },
  {
   "cell_type": "code",
   "execution_count": 2,
   "metadata": {},
   "outputs": [
    {
     "name": "stdout",
     "output_type": "stream",
     "text": [
      "El modelo es válido.\n",
      "La probabilidad de estar satisfecho con las modificaciones:\n",
      "+------------------------------------+-----------------------------+\n",
      "| Satisfacción laboral               |   phi(Satisfacción laboral) |\n",
      "+====================================+=============================+\n",
      "| Satisfacción laboral(satisfecho)   |                      0.8800 |\n",
      "+------------------------------------+-----------------------------+\n",
      "| Satisfacción laboral(neutral)      |                      0.1000 |\n",
      "+------------------------------------+-----------------------------+\n",
      "| Satisfacción laboral(insatisfecho) |                      0.0200 |\n",
      "+------------------------------------+-----------------------------+\n"
     ]
    }
   ],
   "source": [
    "# Importar las librerías necesarias\n",
    "from pgmpy.models import BayesianNetwork # Se usa BayesianModel en lugar de BayesianNetwork\n",
    "from pgmpy.factors.discrete import TabularCPD\n",
    "from pgmpy.inference import VariableElimination\n",
    "\n",
    "# Paso 1: Definir la estructura de la red bayesiana\n",
    "# Aquí se establece cómo se relacionan las variables dentro de la red.\n",
    "# Las aristas representan influencias directas entre las variables, modelando las dependencias condicionales.\n",
    "modelo = BayesianNetwork([\n",
    "    ('Horas de trabajo', 'Balance trabajo-vida'),  # Las horas de trabajo influyen en el balance trabajo-vida\n",
    "    ('Balance trabajo-vida', 'Satisfacción laboral')  # El balance trabajo-vida influye en la satisfacción laboral\n",
    "])\n",
    "\n",
    "# Paso 2: Definir las CPTs (Tablas de Probabilidad Condicional)\n",
    "# Cada CPT especifica cómo la probabilidad de una variable se ve influenciada por el estado de sus padres en la red.\n",
    "\n",
    "# CPT para Horas de trabajo (H)\n",
    "# Define la distribución inicial de cómo se distribuyen las horas de trabajo sin considerar otras variables.\n",
    "cpt_h = TabularCPD(variable='Horas de trabajo', variable_card=3,\n",
    "                   values=[[0.08], [0.65], [0.27]],  # Suposiciones de ejemplo sobre la distribución\n",
    "                   state_names={'Horas de trabajo': ['largas', 'moderadas', 'cortas']})\n",
    "\n",
    "# CPT para Balance trabajo-vida (B), dependiente de H\n",
    "# Establece cómo las horas de trabajo afectan el balance trabajo-vida.\n",
    "cpt_b = TabularCPD(variable='Balance trabajo-vida', variable_card=2,\n",
    "                   values=[[0.5, 0.85, 0.88], [0.5, 0.15, 0.12]],  # Probabilidades condicionales basadas en H\n",
    "                   evidence=['Horas de trabajo'], evidence_card=[3],\n",
    "                   state_names={'Balance trabajo-vida': ['equilibrado', 'no equilibrado'],\n",
    "                                'Horas de trabajo': ['largas', 'moderadas', 'cortas']})\n",
    "\n",
    "# CPT para Satisfacción laboral (S), dependiente de B\n",
    "# Define cómo el balance trabajo-vida afecta la satisfacción laboral.\n",
    "cpt_s = TabularCPD(variable='Satisfacción laboral', variable_card=3,\n",
    "                   values=[[0.88, 0.55], [0.1, 0.35], [0.02, 0.1]],  # Probabilidades condicionales basadas en B\n",
    "                   evidence=['Balance trabajo-vida'], evidence_card=[2],\n",
    "                   state_names={'Satisfacción laboral': ['satisfecho', 'neutral', 'insatisfecho'],\n",
    "                                'Balance trabajo-vida': ['equilibrado', 'no equilibrado']})\n",
    "\n",
    "# Añadir las CPTs al modelo y verificar su validez\n",
    "modelo.add_cpds(cpt_h, cpt_b, cpt_s)\n",
    "\n",
    "# check_model() lo usamos para verificar si un modelo bayesiado es valido, para esto necesitamos asegurarnos de que las CPDs(las tablas de probabilidad\n",
    "# condicional que en nuestro caso son 3 variables) esten correctamente definidas para que la rede bayesiana que se creo tenga coherencia y sentido, para asi poder obtener\n",
    "# resultados validos.\n",
    "#\n",
    "# Al realizar check_model() si el modelo que se definio es valido, entonces esto nos indica que la relaciones entre las 3 variables de la red bayesiana las hemos\n",
    "# unido correctamente, y entonces regresa true con el mensaje \"El modelo es valido\", en caso contrario regresamos false y decimos \"El modelos es inválido\", esto nos dice que\n",
    "# lo mas seguro es que las relaciones de la red bayesiana que se definieron se cometieron errores dando lugar a una inconsistencia en las tabalas de probabilidad.\n",
    "if modelo.check_model():\n",
    "    print(\"El modelo es válido.\")\n",
    "else:\n",
    "    print(\"El modelo es inválido.\")\n",
    "\n",
    "# Paso 3: Realizar la inferencia\n",
    "# Se utiliza VariableElimination para consultar la red y realizar inferencias sobre variables de interés.\n",
    "\n",
    "# Crear un objeto de inferencia\n",
    "inferencia = VariableElimination(modelo)\n",
    "\n",
    "# Consultar la probabilidad de estar satisfecho con el trabajo bajo condiciones específicas.\n",
    "# Esto permite entender cómo factores como las horas de trabajo y el balance trabajo-vida afectan la satisfacción laboral.\n",
    "print(\"La probabilidad de estar satisfecho con las modificaciones:\")\n",
    "resultado = inferencia.query(variables=['Satisfacción laboral'],\n",
    "                             evidence={'Horas de trabajo': 'moderadas', 'Balance trabajo-vida': 'equilibrado'})\n",
    "\n",
    "print(resultado)\n"
   ]
  }
 ],
 "metadata": {
  "kernelspec": {
   "display_name": "Python 3",
   "language": "python",
   "name": "python3"
  },
  "language_info": {
   "codemirror_mode": {
    "name": "ipython",
    "version": 3
   },
   "file_extension": ".py",
   "mimetype": "text/x-python",
   "name": "python",
   "nbconvert_exporter": "python",
   "pygments_lexer": "ipython3",
   "version": "3.11.2"
  }
 },
 "nbformat": 4,
 "nbformat_minor": 2
}
