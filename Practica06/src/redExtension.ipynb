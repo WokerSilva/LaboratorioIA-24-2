{
 "cells": [
  {
   "cell_type": "markdown",
   "metadata": {},
   "source": [
    "# Práctica 06: Redes bayesianas"
   ]
  },
  {
   "cell_type": "markdown",
   "metadata": {},
   "source": [
    "Plantea una mejora o extensión posible de la red bayesiana creada. Justifica cómo estas mejoras permitirían un análisis más detallado y personalizado de las situaciones laborales.\n",
    "\n",
    "\n",
    "Impacto del Liderazgo: Este nodo nos dice como el empleado percibe y afecta su trabajo diario el liderazgo de sus jefes como:\n",
    "\n",
    "    - Positivo\n",
    "    - Neutral\n",
    "    - Negativo"
   ]
  },
  {
   "cell_type": "code",
   "execution_count": 7,
   "metadata": {},
   "outputs": [
    {
     "name": "stdout",
     "output_type": "stream",
     "text": [
      "El modelo es válido.\n",
      "+------------------------------------+-----------------------------+\n",
      "| Satisfacción laboral               |   phi(Satisfacción laboral) |\n",
      "+====================================+=============================+\n",
      "| Satisfacción laboral(satisfecho)   |                      0.7000 |\n",
      "+------------------------------------+-----------------------------+\n",
      "| Satisfacción laboral(neutral)      |                      0.1000 |\n",
      "+------------------------------------+-----------------------------+\n",
      "| Satisfacción laboral(insatisfecho) |                      0.2000 |\n",
      "+------------------------------------+-----------------------------+\n"
     ]
    }
   ],
   "source": [
    "# Importar las librerías necesarias\n",
    "from pgmpy.models import BayesianNetwork\n",
    "from pgmpy.factors.discrete import TabularCPD\n",
    "from pgmpy.inference import VariableElimination\n",
    "\n",
    "# Paso 1: Definir la estructura de la red bayesiana\n",
    "modelo = BayesianNetwork([\n",
    "    ('Horas de trabajo', 'Balance trabajo-vida'),\n",
    "    ('Balance trabajo-vida', 'Satisfacción laboral'),\n",
    "    ('Liderazgo', 'Satisfacción laboral')  # Nueva relación entre Liderazgo y Satisfacción laboral\n",
    "])\n",
    "\n",
    "# Paso 2: Definir las CPTs (Tablas de Probabilidad Condicional)\n",
    "cpt_h = TabularCPD(variable='Horas de trabajo', variable_card=3,\n",
    "                   values=[[0.6], [0.3], [0.1]],\n",
    "                   state_names={'Horas de trabajo': ['largas', 'moderadas', 'cortas']})\n",
    "\n",
    "cpt_b = TabularCPD(variable='Balance trabajo-vida', variable_card=2,\n",
    "                   values=[[0.4, 0.7, 0.2], [0.6, 0.3, 0.8]],\n",
    "                   evidence=['Horas de trabajo'], evidence_card=[3],\n",
    "                   state_names={'Balance trabajo-vida': ['equilibrado', 'no equilibrado'],\n",
    "                                'Horas de trabajo': ['largas', 'moderadas', 'cortas']})\n",
    "\n",
    "# Nueva CPT para Liderazgo (L)\n",
    "cpt_l = TabularCPD(variable='Liderazgo', variable_card=3,\n",
    "                   values=[[0.4], [0.3], [0.3]],\n",
    "                   state_names={'Liderazgo': ['positivo', 'neutral', 'negativo']})\n",
    "\n",
    "\n",
    "# Nueva CPT para Satisfacción laboral (S), dependiente de B y L\n",
    "cpt_s = TabularCPD(variable='Satisfacción laboral', variable_card=3,\n",
    "                   values=[[0.7, 0.05, 0.1, 0.3, 0.1, 0.05],  # Equilibrio y Liderazgo positivo\n",
    "                           [0.1, 0.6, 0.2, 0.3, 0.5, 0.05],   # Equilibrio y Liderazgo neutral\n",
    "                           [0.2, 0.35, 0.7, 0.4, 0.4, 0.9]],  # No equilibrio y Liderazgo negativo\n",
    "                   evidence=['Balance trabajo-vida', 'Liderazgo'], evidence_card=[2, 3],\n",
    "                   state_names={'Satisfacción laboral': ['satisfecho', 'neutral', 'insatisfecho'],\n",
    "                                'Balance trabajo-vida': ['equilibrado', 'no equilibrado'],\n",
    "                                'Liderazgo': ['positivo', 'neutral', 'negativo']})\n",
    "\n",
    "\n",
    "modelo.add_cpds(cpt_h, cpt_b, cpt_l, cpt_s)\n",
    "\n",
    "# Verificar la validez del modelo después de agregar todas las CPDs\n",
    "if modelo.check_model():\n",
    "    print(\"El modelo es válido.\")\n",
    "else:\n",
    "    print(\"El modelo es inválido.\")\n",
    "\n",
    "# Paso 3: Realizar la inferencia\n",
    "# Se utiliza VariableElimination para consultar la red y realizar inferencias sobre variables de interés.\n",
    "# Crear un objeto de inferencia\n",
    "inferencia = VariableElimination(modelo)\n",
    "\n",
    "\n",
    "# Consultar la probabilidad de estar satisfecho bajo condiciones específicas\n",
    "resultado = inferencia.query(variables=['Satisfacción laboral'],\n",
    "                             evidence={'Horas de trabajo': 'moderadas', 'Balance trabajo-vida': 'equilibrado',\n",
    "                                       'Liderazgo': 'positivo'})  # Valores específicos para las variables\n",
    "\n",
    "# Impresión de la tabla como resultado\n",
    "print(resultado)"
   ]
  }
 ],
 "metadata": {
  "kernelspec": {
   "display_name": "Python 3",
   "language": "python",
   "name": "python3"
  },
  "language_info": {
   "codemirror_mode": {
    "name": "ipython",
    "version": 3
   },
   "file_extension": ".py",
   "mimetype": "text/x-python",
   "name": "python",
   "nbconvert_exporter": "python",
   "pygments_lexer": "ipython3",
   "version": "3.11.2"
  }
 },
 "nbformat": 4,
 "nbformat_minor": 2
}
