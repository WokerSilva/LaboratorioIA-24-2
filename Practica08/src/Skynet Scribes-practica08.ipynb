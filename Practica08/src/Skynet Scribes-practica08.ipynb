{
  "nbformat": 4,
  "nbformat_minor": 0,
  "metadata": {
    "colab": {
      "provenance": []
    },
    "kernelspec": {
      "name": "python3",
      "display_name": "Python 3"
    },
    "language_info": {
      "name": "python"
    }
  },
  "cells": [
    {
      "cell_type": "code",
      "execution_count": null,
      "metadata": {
        "colab": {
          "base_uri": "https://localhost:8080/"
        },
        "id": "ultrbfXKCsRW",
        "outputId": "73a306b7-6d73-4727-8597-65f146f7a924"
      },
      "outputs": [
        {
          "output_type": "stream",
          "name": "stdout",
          "text": [
            "Requirement already satisfied: matplotlib in /usr/local/lib/python3.10/dist-packages (3.7.1)\n",
            "Requirement already satisfied: scikit-learn in /usr/local/lib/python3.10/dist-packages (1.2.2)\n",
            "Requirement already satisfied: contourpy>=1.0.1 in /usr/local/lib/python3.10/dist-packages (from matplotlib) (1.2.1)\n",
            "Requirement already satisfied: cycler>=0.10 in /usr/local/lib/python3.10/dist-packages (from matplotlib) (0.12.1)\n",
            "Requirement already satisfied: fonttools>=4.22.0 in /usr/local/lib/python3.10/dist-packages (from matplotlib) (4.51.0)\n",
            "Requirement already satisfied: kiwisolver>=1.0.1 in /usr/local/lib/python3.10/dist-packages (from matplotlib) (1.4.5)\n",
            "Requirement already satisfied: numpy>=1.20 in /usr/local/lib/python3.10/dist-packages (from matplotlib) (1.25.2)\n",
            "Requirement already satisfied: packaging>=20.0 in /usr/local/lib/python3.10/dist-packages (from matplotlib) (24.0)\n",
            "Requirement already satisfied: pillow>=6.2.0 in /usr/local/lib/python3.10/dist-packages (from matplotlib) (9.4.0)\n",
            "Requirement already satisfied: pyparsing>=2.3.1 in /usr/local/lib/python3.10/dist-packages (from matplotlib) (3.1.2)\n",
            "Requirement already satisfied: python-dateutil>=2.7 in /usr/local/lib/python3.10/dist-packages (from matplotlib) (2.8.2)\n",
            "Requirement already satisfied: scipy>=1.3.2 in /usr/local/lib/python3.10/dist-packages (from scikit-learn) (1.11.4)\n",
            "Requirement already satisfied: joblib>=1.1.1 in /usr/local/lib/python3.10/dist-packages (from scikit-learn) (1.4.0)\n",
            "Requirement already satisfied: threadpoolctl>=2.0.0 in /usr/local/lib/python3.10/dist-packages (from scikit-learn) (3.4.0)\n",
            "Requirement already satisfied: six>=1.5 in /usr/local/lib/python3.10/dist-packages (from python-dateutil>=2.7->matplotlib) (1.16.0)\n"
          ]
        }
      ],
      "source": [
        "!pip install matplotlib scikit-learn"
      ]
    },
    {
      "cell_type": "code",
      "source": [
        "!pip install imbalanced-learn"
      ],
      "metadata": {
        "colab": {
          "base_uri": "https://localhost:8080/"
        },
        "id": "DunYPLssUgJf",
        "outputId": "c3b045bc-944c-400d-a4c6-070687a08396"
      },
      "execution_count": null,
      "outputs": [
        {
          "output_type": "stream",
          "name": "stdout",
          "text": [
            "Requirement already satisfied: imbalanced-learn in /usr/local/lib/python3.10/dist-packages (0.10.1)\n",
            "Requirement already satisfied: numpy>=1.17.3 in /usr/local/lib/python3.10/dist-packages (from imbalanced-learn) (1.25.2)\n",
            "Requirement already satisfied: scipy>=1.3.2 in /usr/local/lib/python3.10/dist-packages (from imbalanced-learn) (1.11.4)\n",
            "Requirement already satisfied: scikit-learn>=1.0.2 in /usr/local/lib/python3.10/dist-packages (from imbalanced-learn) (1.2.2)\n",
            "Requirement already satisfied: joblib>=1.1.1 in /usr/local/lib/python3.10/dist-packages (from imbalanced-learn) (1.4.0)\n",
            "Requirement already satisfied: threadpoolctl>=2.0.0 in /usr/local/lib/python3.10/dist-packages (from imbalanced-learn) (3.4.0)\n"
          ]
        }
      ]
    },
    {
      "cell_type": "code",
      "source": [
        "!pip install nltk"
      ],
      "metadata": {
        "colab": {
          "base_uri": "https://localhost:8080/"
        },
        "id": "i6174Fika0JT",
        "outputId": "8f6b4fc4-1fc9-491c-a71f-d5e75b0afeaf"
      },
      "execution_count": null,
      "outputs": [
        {
          "output_type": "stream",
          "name": "stdout",
          "text": [
            "Requirement already satisfied: nltk in /usr/local/lib/python3.10/dist-packages (3.8.1)\n",
            "Requirement already satisfied: click in /usr/local/lib/python3.10/dist-packages (from nltk) (8.1.7)\n",
            "Requirement already satisfied: joblib in /usr/local/lib/python3.10/dist-packages (from nltk) (1.4.0)\n",
            "Requirement already satisfied: regex>=2021.8.3 in /usr/local/lib/python3.10/dist-packages (from nltk) (2023.12.25)\n",
            "Requirement already satisfied: tqdm in /usr/local/lib/python3.10/dist-packages (from nltk) (4.66.2)\n"
          ]
        }
      ]
    },
    {
      "cell_type": "code",
      "source": [
        "import pandas as pd\n",
        "import matplotlib.pyplot as pl\n",
        "import seaborn as sns\n",
        "import matplotlib.pyplot as plt\n",
        "import re\n",
        "import string\n",
        "import nltk\n",
        "import sklearn\n",
        "from imblearn.over_sampling import SMOTE\n",
        "from imblearn.under_sampling import RandomUnderSampler\n",
        "from imblearn.pipeline import make_pipeline\n",
        "from imblearn.over_sampling import RandomOverSampler\n",
        "from imblearn.under_sampling import RandomUnderSampler\n",
        "from nltk.corpus import stopwords\n",
        "from sklearn.feature_extraction.text import TfidfVectorizer\n",
        "from sklearn.model_selection import train_test_split\n",
        "from sklearn.linear_model import LogisticRegression\n",
        "from sklearn.svm import SVC\n",
        "from sklearn.tree import DecisionTreeClassifier\n",
        "from sklearn.ensemble import RandomForestClassifier\n",
        "from sklearn.metrics import classification_report, confusion_matrix"
      ],
      "metadata": {
        "id": "9DeTYKINC8lT"
      },
      "execution_count": null,
      "outputs": []
    },
    {
      "cell_type": "code",
      "source": [
        "# Carga del archivo\n",
        "df = pd.read_csv('dataset.csv')\n",
        "\n",
        "# Imprime las primeras filas del archivo\n",
        "print(df.head())"
      ],
      "metadata": {
        "colab": {
          "base_uri": "https://localhost:8080/"
        },
        "id": "heCz51zgY1eq",
        "outputId": "3a8d78d7-b89d-4972-9bcc-9ff6e3f6d09e"
      },
      "execution_count": null,
      "outputs": [
        {
          "output_type": "stream",
          "name": "stdout",
          "text": [
            "  text_type                                               text\n",
            "0      spam  naturally irresistible your corporate identity...\n",
            "1      spam  the stock trading gunslinger fanny is merrill ...\n",
            "2      spam  unbelievable new homes made easy im wanting to...\n",
            "3      spam  4 color printing special request additional in...\n",
            "4      spam  do not have money get software cds from here s...\n"
          ]
        }
      ]
    },
    {
      "cell_type": "code",
      "source": [
        "# Verificamos si el está balanceado\n",
        "class_counts = df['text_type'].value_counts()\n",
        "print(class_counts)\n",
        "\n",
        "# Graficar un gráfico de barras para visualizar el balance de clases\n",
        "plt.bar(class_counts.index, class_counts.values)\n",
        "plt.xlabel('Clases')\n",
        "plt.ylabel('Número de ejemplos')\n",
        "plt.title('Balance de datos')\n",
        "plt.show()"
      ],
      "metadata": {
        "colab": {
          "base_uri": "https://localhost:8080/",
          "height": 541
        },
        "id": "vFeaC2clQNuH",
        "outputId": "e64a35d9-e209-4127-aa12-1760e9aabdff"
      },
      "execution_count": null,
      "outputs": [
        {
          "output_type": "stream",
          "name": "stdout",
          "text": [
            "text_type\n",
            "ham     14337\n",
            "spam     6011\n",
            "Name: count, dtype: int64\n"
          ]
        },
        {
          "output_type": "display_data",
          "data": {
            "text/plain": [
              "<Figure size 640x480 with 1 Axes>"
            ],
            "image/png": "[encoded data removed]"
          },
          "metadata": {}
        }
      ]
    },
    {
      "cell_type": "code",
      "source": [
        "# Aplicar oversampling de la clase minoritaria\n",
        "# oversampler = RandomOverSampler(random_state=42)\n",
        "# X_resampled, y_resampled = oversampler.fit_resample(df.drop('text_type', axis=1), df['text_type'])\n",
        "\n",
        "# Aplicar undersampling de la clase mayoritaria\n",
        "undersampler = RandomUnderSampler(random_state=42)\n",
        "X_resampled, y_resampled = undersampler.fit_resample(df.drop('text_type', axis=1), df['text_type'])\n",
        "\n",
        "# Verificar la distribución de clases después del balanceo\n",
        "df_resampled = pd.DataFrame(X_resampled, columns=df.drop('text_type', axis=1).columns)\n",
        "df_resampled['text_type'] = y_resampled\n",
        "class_counts_after = df_resampled['text_type'].value_counts()\n",
        "print(\"Distribución de datos después del balanceo:\")\n",
        "print(class_counts_after)\n",
        "\n",
        "# Graficar un gráfico de barras para visualizar el balance de clases después del balanceo\n",
        "plt.bar(class_counts_after.index, class_counts_after.values)\n",
        "plt.xlabel('Clases')\n",
        "plt.ylabel('Número de ejemplos')\n",
        "plt.title('Balance de clases después del balanceo')\n",
        "plt.show()"
      ],
      "metadata": {
        "colab": {
          "base_uri": "https://localhost:8080/",
          "height": 559
        },
        "id": "-4EAusyVUaPp",
        "outputId": "45dae21d-8b18-40ad-e586-414ce18052ff"
      },
      "execution_count": null,
      "outputs": [
        {
          "output_type": "stream",
          "name": "stdout",
          "text": [
            "Distribución de datos después del balanceo:\n",
            "text_type\n",
            "ham     6011\n",
            "spam    6011\n",
            "Name: count, dtype: int64\n"
          ]
        },
        {
          "output_type": "display_data",
          "data": {
            "text/plain": [
              "<Figure size 640x480 with 1 Axes>"
            ],
            "image/png": "[encoded data removed]"
          },
          "metadata": {}
        }
      ]
    },
    {
      "cell_type": "code",
      "source": [
        "# Limpieza de datos: eliminar caracteres especiales\n",
        "def clean_text(text):\n",
        "    text = re.sub(r'\\n', ' ', text)  # Eliminar saltos de línea\n",
        "    text = re.sub(r'\\r', '', text)  # Eliminar retornos de carro\n",
        "    text = re.sub(r'[^\\w\\s]', '', text)  # Eliminar caracteres especiales excepto palabras y espacios\n",
        "    return text\n",
        "\n",
        "# Limpieza de datos: convertir textos a minúsculas\n",
        "def lowercase_text(text):\n",
        "    return text.lower()\n",
        "\n",
        "# Dividir textos en palabras o tokens individuales\n",
        "def tokenize_text(text):\n",
        "    return text.split()\n",
        "\n",
        "# Aplicar limpieza y tokenización a la columna de textos en el DataFrame df_resampled\n",
        "df_resampled['texto_filtrado'] = df_resampled['text'].apply(clean_text)\n",
        "df_resampled['minusculas'] = df_resampled['texto_filtrado'].apply(lowercase_text)\n",
        "df_resampled['tokens'] = df_resampled['minusculas'].apply(tokenize_text)\n",
        "\n",
        "# Verificar los resultados\n",
        "print(\"Ejemplos de textos limpios y tokenizados:\")\n",
        "print(df_resampled[['text', 'tokens']].head())"
      ],
      "metadata": {
        "colab": {
          "base_uri": "https://localhost:8080/"
        },
        "id": "dIEMXTZGZVJ2",
        "outputId": "fdbe6b96-5a77-415b-8460-b8a04468ef83"
      },
      "execution_count": null,
      "outputs": [
        {
          "output_type": "stream",
          "name": "stdout",
          "text": [
            "Ejemplos de textos limpios y tokenizados:\n",
            "                                                text  \\\n",
            "0  url url date 1635465 1635465 1635465t1635465 1...   \n",
            "1  edith terry scott i spoke briefly with edith t...   \n",
            "2                             i liked the new mobile   \n",
            "3  new powermod 97 xls marty absolutely yes we ar...   \n",
            "4  would me smoking you out help us work through ...   \n",
            "\n",
            "                                              tokens  \n",
            "0  [url, url, date, 1635465, 1635465, 1635465t163...  \n",
            "1  [edith, terry, scott, i, spoke, briefly, with,...  \n",
            "2                       [i, liked, the, new, mobile]  \n",
            "3  [new, powermod, 97, xls, marty, absolutely, ye...  \n",
            "4  [would, me, smoking, you, out, help, us, work,...  \n"
          ]
        }
      ]
    },
    {
      "cell_type": "code",
      "source": [
        "nltk.download('stopwords')\n",
        "\n",
        "# Descargar la lista de stopwords en inglés\n",
        "stop_words = set(stopwords.words('english'))\n",
        "\n",
        "# Función para eliminar stopwords de un texto\n",
        "def eliminar_stopwords(tokens):\n",
        "    filtered_tokens = [word for word in tokens if word.lower() not in stop_words]\n",
        "    return filtered_tokens\n",
        "\n",
        "# Aplicar eliminación de stopwords a la columna 'tokens' en el DataFrame df_resampled\n",
        "df_resampled['tokens_cleaned'] = df_resampled['tokens'].apply(eliminar_stopwords)\n",
        "\n",
        "# Verificar los resultados\n",
        "print(\"DATOS sin stopwords:\")\n",
        "print(df_resampled[['text', 'tokens', 'tokens_cleaned']].head())"
      ],
      "metadata": {
        "colab": {
          "base_uri": "https://localhost:8080/"
        },
        "id": "eqXMvSYaa-Lz",
        "outputId": "55455c96-6430-4481-8bf7-06ec1cae9983"
      },
      "execution_count": null,
      "outputs": [
        {
          "output_type": "stream",
          "name": "stdout",
          "text": [
            "DATOS sin stopwords:\n",
            "                                                text  \\\n",
            "0  url url date 1635465 1635465 1635465t1635465 1...   \n",
            "1  edith terry scott i spoke briefly with edith t...   \n",
            "2                             i liked the new mobile   \n",
            "3  new powermod 97 xls marty absolutely yes we ar...   \n",
            "4  would me smoking you out help us work through ...   \n",
            "\n",
            "                                              tokens  \\\n",
            "0  [url, url, date, 1635465, 1635465, 1635465t163...   \n",
            "1  [edith, terry, scott, i, spoke, briefly, with,...   \n",
            "2                       [i, liked, the, new, mobile]   \n",
            "3  [new, powermod, 97, xls, marty, absolutely, ye...   \n",
            "4  [would, me, smoking, you, out, help, us, work,...   \n",
            "\n",
            "                                      tokens_cleaned  \n",
            "0  [url, url, date, 1635465, 1635465, 1635465t163...  \n",
            "1  [edith, terry, scott, spoke, briefly, edith, t...  \n",
            "2                               [liked, new, mobile]  \n",
            "3  [new, powermod, 97, xls, marty, absolutely, ye...  \n",
            "4  [would, smoking, help, us, work, difficult, time]  \n"
          ]
        },
        {
          "output_type": "stream",
          "name": "stderr",
          "text": [
            "[nltk_data] Downloading package stopwords to /root/nltk_data...\n",
            "[nltk_data]   Package stopwords is already up-to-date!\n"
          ]
        }
      ]
    },
    {
      "cell_type": "code",
      "source": [
        "  # Creado un objeto de vectorización\n",
        "  tfidf_vectorizer = TfidfVectorizer()\n",
        "  X_tfidf = tfidf_vectorizer.fit_transform(df_resampled['texto_filtrado'])\n",
        "\n",
        "  # Verificar las primeras palabras o tokens (vocabulario)\n",
        "  print(\"Vocabulario (TfidfVectorizer):\")\n",
        "  print(tfidf_vectorizer.get_feature_names_out()[:10])\n",
        "\n",
        "  # Verificar la matriz resultante (representación numérica de los textos)\n",
        "  print(\"Matriz de TfidfVectorizer:\")\n",
        "  print(X_tfidf.toarray())"
      ],
      "metadata": {
        "colab": {
          "base_uri": "https://localhost:8080/"
        },
        "id": "U0-MmBxeeLLZ",
        "outputId": "067e0f60-0f40-46a0-d457-3b8a3cce2799"
      },
      "execution_count": null,
      "outputs": [
        {
          "output_type": "stream",
          "name": "stdout",
          "text": [
            "Vocabulario (TfidfVectorizer):\n",
            "['00' '000' '0000' '000000' '00000000' '000000000003997' '000000000005168'\n",
            " '000000000005411' '000000000005413' '000000000007498']\n",
            "Matriz de TfidfVectorizer:\n",
            "[[0. 0. 0. ... 0. 0. 0.]\n",
            " [0. 0. 0. ... 0. 0. 0.]\n",
            " [0. 0. 0. ... 0. 0. 0.]\n",
            " ...\n",
            " [0. 0. 0. ... 0. 0. 0.]\n",
            " [0. 0. 0. ... 0. 0. 0.]\n",
            " [0. 0. 0. ... 0. 0. 0.]]\n"
          ]
        }
      ]
    },
    {
      "cell_type": "code",
      "source": [
        "# Dividir el conjunto de datos en entrenamiento (80%) y prueba (20%)\n",
        "X_train, X_test, y_train, y_test = train_test_split(X_tfidf, df_resampled['text_type'], test_size=0.2, random_state=42)\n",
        "\n",
        "# Verificar los tamaños de los conjuntos resultantes\n",
        "print(\"Tamaño del conjunto de entrenamiento:\", X_train.shape)\n",
        "print(\"Tamaño del conjunto de prueba:\", X_test.shape)"
      ],
      "metadata": {
        "colab": {
          "base_uri": "https://localhost:8080/"
        },
        "id": "d3dnN4SZhwdM",
        "outputId": "2a0c080a-aa24-4819-f049-eb88ad1b29a5"
      },
      "execution_count": null,
      "outputs": [
        {
          "output_type": "stream",
          "name": "stdout",
          "text": [
            "Tamaño del conjunto de entrenamiento: (9617, 48812)\n",
            "Tamaño del conjunto de prueba: (2405, 48812)\n"
          ]
        }
      ]
    },
    {
      "cell_type": "code",
      "source": [
        "# Crear una instancia del modelo Logistic Regression\n",
        "logreg_model = LogisticRegression(class_weight='balanced', random_state=42)\n",
        "\n",
        "# Entrenar el modelo Logistic Regression con el conjunto de entrenamiento\n",
        "logreg_model.fit(X_train, y_train)\n",
        "\n",
        "# Una vez entrenado, puedes usar el modelo para hacer predicciones\n",
        "y_pred_logreg = logreg_model.predict(X_test)\n",
        "\n",
        "# Calcular la precisión del modelo\n",
        "accuracy_logreg = logreg_model.score(X_test, y_test)\n",
        "\n",
        "# Imprimir la precisión del modelo Logistic Regression\n",
        "# print(\"Precisión del modelo Logistic Regression:\", accuracy_logreg)\n",
        "\n",
        "# Calcular métricas de evaluación\n",
        "print(\"Métricas de evaluación para Logistic Regression:\")\n",
        "print(classification_report(y_test, y_pred_logreg))\n",
        "\n",
        "# Calcular la matriz de confusión\n",
        "conf_matrix_lr = confusion_matrix(y_test, y_pred_logreg)\n",
        "print(\"Matriz de confusión para Logistic Regression:\")\n",
        "print(conf_matrix_lr)"
      ],
      "metadata": {
        "colab": {
          "base_uri": "https://localhost:8080/"
        },
        "id": "DPfesaE0mV7q",
        "outputId": "03df6cc4-0422-460d-d6bf-4a4432666409"
      },
      "execution_count": 92,
      "outputs": [
        {
          "output_type": "stream",
          "name": "stdout",
          "text": [
            "Métricas de evaluación para Logistic Regression:\n",
            "              precision    recall  f1-score   support\n",
            "\n",
            "         ham       0.91      0.92      0.91      1206\n",
            "        spam       0.92      0.90      0.91      1199\n",
            "\n",
            "    accuracy                           0.91      2405\n",
            "   macro avg       0.91      0.91      0.91      2405\n",
            "weighted avg       0.91      0.91      0.91      2405\n",
            "\n",
            "Matriz de confusión para Logistic Regression:\n",
            "[[1114   92]\n",
            " [ 115 1084]]\n"
          ]
        }
      ]
    },
    {
      "cell_type": "code",
      "source": [
        "# Crear una instancia del modelo Support Vector Machine (SVM)\n",
        "svm_model = SVC(class_weight='balanced', random_state=42)\n",
        "\n",
        "# Entrenar el modelo SVM con el conjunto de entrenamiento\n",
        "svm_model.fit(X_train, y_train)\n",
        "\n",
        "# Una vez entrenado, puedes usar el modelo para hacer predicciones\n",
        "y_pred_svm = svm_model.predict(X_test)\n",
        "\n",
        "# Calcular la precisión del modelo\n",
        "accuracy_svm = svm_model.score(X_test, y_test)\n",
        "\n",
        "# Imprimir la precisión del modelo SVM\n",
        "# print(\"Precisión del modelo SVM:\", accuracy_svm)\n",
        "\n",
        "# Calcular métricas de evaluación\n",
        "print(\"Métricas de evaluación para Logistic Regression:\")\n",
        "print(classification_report(y_test, y_pred_svm))\n",
        "\n",
        "# Calcular la matriz de confusión\n",
        "conf_matrix_lr = confusion_matrix(y_test, y_pred_svm)\n",
        "print(\"Matriz de confusión para Logistic Regression:\")\n",
        "print(conf_matrix_lr)"
      ],
      "metadata": {
        "colab": {
          "base_uri": "https://localhost:8080/"
        },
        "id": "sR9zLrBOmv85",
        "outputId": "e420a8d8-37ef-4625-daf4-8d438379902e"
      },
      "execution_count": 91,
      "outputs": [
        {
          "output_type": "stream",
          "name": "stdout",
          "text": [
            "Métricas de evaluación para Logistic Regression:\n",
            "              precision    recall  f1-score   support\n",
            "\n",
            "         ham       0.93      0.95      0.94      1206\n",
            "        spam       0.94      0.92      0.93      1199\n",
            "\n",
            "    accuracy                           0.93      2405\n",
            "   macro avg       0.93      0.93      0.93      2405\n",
            "weighted avg       0.93      0.93      0.93      2405\n",
            "\n",
            "Matriz de confusión para Logistic Regression:\n",
            "[[1140   66]\n",
            " [  92 1107]]\n"
          ]
        }
      ]
    },
    {
      "cell_type": "code",
      "source": [
        "# Crear una instancia del modelo Decision Tree Classifier\n",
        "dt_model = DecisionTreeClassifier(class_weight='balanced', random_state=42)\n",
        "\n",
        "# Entrenar el modelo Decision Tree Classifier con el conjunto de entrenamiento\n",
        "dt_model.fit(X_train, y_train)\n",
        "\n",
        "# Una vez entrenado, puedes usar el modelo para hacer predicciones\n",
        "y_pred_dt = dt_model.predict(X_test)\n",
        "\n",
        "# Calcular la precisión del modelo\n",
        "accuracy_dt = dt_model.score(X_test, y_test)\n",
        "\n",
        "# Imprimir la precisión del modelo Decision Tree Classifier\n",
        "# print(\"Precisión del modelo Decision Tree Classifier:\", accuracy_dt)\n",
        "\n",
        "# Calcular métricas de evaluación\n",
        "print(\"Métricas de evaluación para Decision Tree Classifier:\")\n",
        "print(classification_report(y_test, y_pred_dt))\n",
        "\n",
        "# Calcular la matriz de confusión\n",
        "conf_matrix_dt = confusion_matrix(y_test, y_pred_dt)\n",
        "print(\"Matriz de confusión para Decision Tree Classifier:\")\n",
        "print(conf_matrix_dt)"
      ],
      "metadata": {
        "colab": {
          "base_uri": "https://localhost:8080/"
        },
        "id": "Ow2zf571oOHK",
        "outputId": "d5354bbb-47ed-4890-fbd8-2c7dbb887430"
      },
      "execution_count": 90,
      "outputs": [
        {
          "output_type": "stream",
          "name": "stdout",
          "text": [
            "Métricas de evaluación para Decision Tree Classifier:\n",
            "              precision    recall  f1-score   support\n",
            "\n",
            "         ham       0.86      0.88      0.87      1206\n",
            "        spam       0.88      0.86      0.87      1199\n",
            "\n",
            "    accuracy                           0.87      2405\n",
            "   macro avg       0.87      0.87      0.87      2405\n",
            "weighted avg       0.87      0.87      0.87      2405\n",
            "\n",
            "Matriz de confusión para Decision Tree Classifier:\n",
            "[[1059  147]\n",
            " [ 168 1031]]\n"
          ]
        }
      ]
    },
    {
      "cell_type": "code",
      "source": [
        "# Crear una instancia del modelo Random Forest Classifier\n",
        "rf_model = RandomForestClassifier(class_weight='balanced', random_state=42)\n",
        "\n",
        "# Entrenar el modelo Random Forest Classifier con el conjunto de entrenamiento\n",
        "rf_model.fit(X_train, y_train)\n",
        "\n",
        "# Una vez entrenado, puedes usar el modelo para hacer predicciones\n",
        "y_pred_rf = rf_model.predict(X_test)\n",
        "\n",
        "# Calcular la precisión del modelo\n",
        "accuracy_rf = rf_model.score(X_test, y_test)\n",
        "\n",
        "# Imprimir la precisión del modelo Random Forest Classifier\n",
        "# print(\"Precisión del modelo Random Forest Classifier:\", accuracy_rf)\n",
        "\n",
        "# Calcular métricas de evaluación\n",
        "print(\"Métricas de evaluación para Random Forest Classifier:\")\n",
        "print(classification_report(y_test, y_pred_rf))\n",
        "\n",
        "# Calcular la matriz de confusión\n",
        "conf_matrix_rf = confusion_matrix(y_test, y_pred_rf)\n",
        "print(\"Matriz de confusión para Random Forest Classifier:\")\n",
        "print(conf_matrix_rf)"
      ],
      "metadata": {
        "colab": {
          "base_uri": "https://localhost:8080/"
        },
        "id": "5nhgpl_eoj9M",
        "outputId": "de93daa9-cd2f-499e-818e-fdab22930e3a"
      },
      "execution_count": 89,
      "outputs": [
        {
          "output_type": "stream",
          "name": "stdout",
          "text": [
            "Métricas de evaluación para Random Forest Classifier:\n",
            "              precision    recall  f1-score   support\n",
            "\n",
            "         ham       0.91      0.96      0.93      1206\n",
            "        spam       0.96      0.90      0.93      1199\n",
            "\n",
            "    accuracy                           0.93      2405\n",
            "   macro avg       0.93      0.93      0.93      2405\n",
            "weighted avg       0.93      0.93      0.93      2405\n",
            "\n",
            "Matriz de confusión para Random Forest Classifier:\n",
            "[[1163   43]\n",
            " [ 121 1078]]\n"
          ]
        }
      ]
    }
  ]
}