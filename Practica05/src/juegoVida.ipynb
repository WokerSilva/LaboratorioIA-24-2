{
 "cells": [
  {
   "cell_type": "markdown",
   "metadata": {},
   "source": [
    "# Práctica 05: Algoritmo Genético\n",
    "\n",
    "## Juego de la vida sin Algoritmo Genético "
   ]
  },
  {
   "cell_type": "markdown",
   "metadata": {},
   "source": [
    "- DESCRIPCIÓN DEL ALGORITMO:\n",
    "\n",
    "El Juego de la Vida es un autómata celular ideado por el matemático británico John Horton Conway en 1970. Se trata de un juego de cero jugadores, lo que significa que su evolución está determinada por su estado inicial, sin necesidad de entrada de datos posteriores. Se juega en una matriz bidimensional de células, donde cada célula tiene dos estados posibles: viva o muerta. El estado de cada célula en la siguiente generación se determina a partir del estado de sus ocho vecinos, aplicando un conjunto de reglas simples.\n",
    "\n",
    "\n",
    "- FUNCIÓN:\n",
    "\n",
    "La implementación se compone de dos funciones principales:\n",
    "\n",
    "1. Crear_matriz_inicial(n): Genera una matriz n×n con células vivas o muertas de manera aleatoria, representando el estado inicial del juego.\n",
    "2. Aplicar_reglas(estado_actual): Aplica las reglas del Juego de la Vida a cada célula de la matriz para determinar su estado en la siguiente generación.\n",
    "\n",
    "\n",
    "- PARÁMETROS:\n",
    "\n",
    "* n: Tamaño de la matriz (número de filas y columnas).\n",
    "* estado_actual: Matriz que representa el estado actual del juego, donde cada elemento es 0 (célula muerta) o 1 (célula viva)."
   ]
  },
  {
   "cell_type": "markdown",
   "metadata": {},
   "source": [
    "<center><h1>INICIO DEL CÓDIGO</h1></center>\n"
   ]
  },
  {
   "cell_type": "code",
   "execution_count": null,
   "metadata": {},
   "outputs": [],
   "source": [
    "## Aquí comienza el código\n",
    "\n",
    "import numpy as np\n",
    "import matplotlib.pyplot as plt\n",
    "\n",
    "# PARTE 1: Creación del estado inicial del juego\n",
    "# Este paso aborda el requerimiento de \"Crear una matriz de dimensiones n × n que representará el estado inicial del juego. \n",
    "# La matriz debe ser poblada aleatoriamente con células vivas o muertas.\"\n",
    "def crear_matriz_inicial(n):\n",
    "    \"\"\"\n",
    "    Genera una matriz n x n con células vivas o muertas aleatoriamente.\n",
    "    \n",
    "    Parámetros:\n",
    "    - n: Tamaño de la matriz (número de filas y columnas).\n",
    "    \n",
    "    Retorna:\n",
    "    - Matriz n x n con valores aleatorios 0 (muerta) o 1 (viva).\n",
    "    \"\"\"\n",
    "    return np.random.choice([0, 1], size=(n, n))\n",
    "\n",
    "# PARTE 2: Aplicación de las reglas del Juego de la Vida\n",
    "def aplicar_reglas(estado_actual):\n",
    "    \"\"\"\n",
    "    Aplica las reglas del Juego de la Vida a cada célula de la matriz.\n",
    "    \n",
    "    Parámetros:\n",
    "    - estado_actual: Matriz que representa el estado actual del juego.\n",
    "    \n",
    "    Retorna:\n",
    "    - Nuevo estado del juego después de aplicar las reglas.\n",
    "    \"\"\"\n",
    "    n = estado_actual.shape[0]\n",
    "    nuevo_estado = np.zeros((n, n))\n",
    "    \n",
    "    for i in range(n):\n",
    "        for j in range(n):\n",
    "            num_vecinos = np.sum(estado_actual[i-1:i+2, j-1:j+2]) - estado_actual[i, j]\n",
    "            \n",
    "            # Regla a) Si una célula está viva y tiene dos o tres vecinas vivas, sobrevive.\n",
    "            if estado_actual[i, j] == 1 and num_vecinos in [2, 3]:\n",
    "                nuevo_estado[i, j] = 1\n",
    "                        \n",
    "            # Regla b) Si una célula está muerta y tiene tres vecinas vivas, nace.\n",
    "            elif estado_actual[i, j] == 0 and num_vecinos == 3:\n",
    "                nuevo_estado[i, j] = 1\n",
    "            else:\n",
    "                nuevo_estado[i, j] = 0\n",
    "\n",
    "            # Regla c) Se cubre por defecto con la lógica de las dos condiciones anteriores,\n",
    "            # ya que una célula viva con más de tres vecinas vivas o menos de dos no sobrevive.\n",
    "            # Por lo tanto, no se necesita una condición explícita para la muerte por sobrepoblación o soledad.\n",
    "    \n",
    "    return nuevo_estado\n",
    "\n",
    "# Función de visualización\n",
    "# Esta función soporta la visualización del estado de la matriz después de cada actualización\n",
    "def visualizar_estado(estado, titulo=\"Estado del Juego de la Vida\"):\n",
    "    \"\"\"\n",
    "    Visualiza el estado del juego.\n",
    "    \n",
    "    Parámetros:\n",
    "    - estado: Matriz que representa el estado actual del juego.\n",
    "    - titulo: Título para la visualización.\n",
    "    \"\"\"\n",
    "    plt.figure(figsize=(5, 5))\n",
    "    plt.imshow(estado, cmap='Greys', interpolation='nearest')\n",
    "    plt.title(titulo)\n",
    "    plt.show()\n",
    "\n",
    "# PARTE 3: Actualización de la matriz y visualización a través de múltiples turnos\n",
    "# Esta sección del código implementa un bucle que actualiza la matriz basándose en las reglas de Conway y visualiza el estado de la cuadrícula después de cada actualización.\n",
    "\n",
    "# Número de iteraciones/turnos para visualizar\n",
    "num_iteraciones = 5\n",
    "n = 10  # Tamaño de la matriz\n",
    "\n",
    "# Generar el estado inicial del juego\n",
    "estado_actual = crear_matriz_inicial(n)\n",
    "\n",
    "# Visualizar el estado inicial\n",
    "visualizar_estado(estado_actual, \"Estado Inicial\")\n",
    "\n",
    "# Bucle para actualizar y visualizar el juego en cada turno\n",
    "for i in range(num_iteraciones):\n",
    "    # Aplicar las reglas del Juego de la Vida para obtener el nuevo estado\n",
    "    estado_actual = aplicar_reglas(estado_actual)\n",
    "    # Visualizar el estado actual después de aplicar las reglas\n",
    "    visualizar_estado(estado_actual, titulo=f\"Estado después de {i + 1} turno(s)\")\n"
   ]
  },
  {
   "cell_type": "markdown",
   "metadata": {},
   "source": [
    "<center><h1>Visualización del Estado Inicial y la Aplicación de Reglas\n",
    "</h1></center>\n"
   ]
  },
  {
   "cell_type": "markdown",
   "metadata": {},
   "source": [
    "Para visualizar el estado inicial y cómo cambia con la aplicación de las reglas, puedes usar el siguiente código:\n"
   ]
  },
  {
   "cell_type": "code",
   "execution_count": null,
   "metadata": {},
   "outputs": [],
   "source": [
    "def visualizar_estado(estado, titulo=\"Estado del Juego de la Vida\"):\n",
    "    \"\"\"\n",
    "    Visualiza el estado del juego.\n",
    "    \n",
    "    Parámetros:\n",
    "    - estado: Matriz que representa el estado actual del juego.\n",
    "    - titulo: Título para la visualización.\n",
    "    \"\"\"\n",
    "    plt.figure(figsize=(5, 5))\n",
    "    plt.imshow(estado, cmap='Greys', interpolation='nearest')\n",
    "    plt.title(titulo)\n",
    "    plt.show()\n",
    "\n",
    "# Ejemplo de uso\n",
    "n = 10\n",
    "estado_inicial = crear_matriz_inicial(n)\n",
    "visualizar_estado(estado_inicial, \"Estado Inicial\")\n",
    "\n",
    "nuevo_estado = aplicar_reglas(estado_inicial)\n",
    "visualizar_estado(nuevo_estado, \"Estado después de 1 turno\")\n"
   ]
  }
 ],
 "metadata": {
  "kernelspec": {
   "display_name": "Python 3",
   "language": "python",
   "name": "python3"
  },
  "language_info": {
   "codemirror_mode": {
    "name": "ipython",
    "version": 3
   },
   "file_extension": ".py",
   "mimetype": "text/x-python",
   "name": "python",
   "nbconvert_exporter": "python",
   "pygments_lexer": "ipython3",
   "version": "3.11.2"
  }
 },
 "nbformat": 4,
 "nbformat_minor": 2
}
