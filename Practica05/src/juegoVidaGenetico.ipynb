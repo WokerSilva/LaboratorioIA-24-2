{
 "cells": [
  {
   "cell_type": "markdown",
   "metadata": {},
   "source": [
    "# Práctica 05: Algoritmo Genético\n",
    "\n",
    "## Juego de la vida con Algoritmo Genético \n",
    "\n",
    "Reglas:\n",
    "- Nacimientos: Una célula muerta con exactamente tres vecinos vivos se convierte en una célula viva.\n",
    "- Muerte uno: Una célula viva con uno o menos vecinos vivos muere.\n",
    "- Muerte dos: Una célula viva con más de tres vecinos vivos muere, a menos que se  cumpla la condición especial.\n",
    "- Condición Especial de Supervivencia: Si la población de cromosomas alcanza o  supera un $n$ especifica, las células vivas pueden soportar hasta cuatro  vecinos vivos sin morir.\n",
    "- Supervivencia Normal: Si no se cumple la condición especial, una célula viva con dos o tres vecinos vivos sobrevive.\n",
    "- Muerte tres: Si en $n$ generaciones no se alcanza el objetivo el juego termina."
   ]
  },
  {
   "cell_type": "markdown",
   "metadata": {},
   "source": [
    "<center><h1>INICIO DEL CÓDIGO</h1></center>"
   ]
  },
  {
   "cell_type": "code",
   "execution_count": 1,
   "metadata": {},
   "outputs": [],
   "source": []
  }
 ],
 "metadata": {
  "kernelspec": {
   "display_name": "Python 3",
   "language": "python",
   "name": "python3"
  },
  "language_info": {
   "codemirror_mode": {
    "name": "ipython",
    "version": 3
   },
   "file_extension": ".py",
   "mimetype": "text/x-python",
   "name": "python",
   "nbconvert_exporter": "python",
   "pygments_lexer": "ipython3",
   "version": "3.11.2"
  }
 },
 "nbformat": 4,
 "nbformat_minor": 2
}
